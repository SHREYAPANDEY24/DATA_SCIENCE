{
 "cells": [
  {
   "cell_type": "code",
   "execution_count": 1,
   "id": "e1ad3d8c-1c1d-4e27-968e-ac03b279b732",
   "metadata": {},
   "outputs": [],
   "source": [
    "# Question 1: What is the difference between a t-test and a z-test? Provide an example scenario where you would use each type of test.\n",
    "# Answer:\n",
    "# - A t-test is used when the sample size is small (typically n < 30) or when the population standard deviation is unknown.\n",
    "# - A z-test is used when the sample size is large (n >= 30) and the population standard deviation is known.\n",
    "# - Example for t-test: Comparing the means of two small groups, such as testing the effectiveness of a new drug with a small sample size.\n",
    "# - Example for z-test: Comparing the means of two large groups, such as comparing the average heights of men and women in a large population.\n"
   ]
  },
  {
   "cell_type": "code",
   "execution_count": 2,
   "id": "e7a49e92-143f-460b-a0f2-96592cf3497e",
   "metadata": {},
   "outputs": [],
   "source": [
    "# Question 2: Differentiate between one-tailed and two-tailed tests.\n",
    "# Answer:\n",
    "# - A one-tailed test is used when we are interested in testing if a sample mean is significantly greater than or less than a population mean.\n",
    "# - A two-tailed test is used when we are interested in testing if a sample mean is significantly different (either higher or lower) from a population mean.\n",
    "# - Example of one-tailed test: Testing if a new teaching method leads to higher scores than the traditional method.\n",
    "# - Example of two-tailed test: Testing if a new drug has a different effect (either positive or negative) than a placebo.\n"
   ]
  },
  {
   "cell_type": "code",
   "execution_count": 3,
   "id": "3838f067-1d03-4a0b-8489-a3c1411e3440",
   "metadata": {},
   "outputs": [],
   "source": [
    "# Question 3: Explain the concept of Type 1 and Type 2 errors in hypothesis testing. Provide an example scenario for each type of error.\n",
    "# Answer:\n",
    "# - Type 1 Error (False Positive): Rejecting the null hypothesis when it is actually true. This is also known as the significance level (alpha).\n",
    "#   - Example: Concluding that a new drug is effective when it actually is not.\n",
    "# - Type 2 Error (False Negative): Failing to reject the null hypothesis when it is actually false. This is related to the power of the test (1 - beta).\n",
    "#   - Example: Concluding that a new drug is not effective when it actually is.\n"
   ]
  },
  {
   "cell_type": "code",
   "execution_count": 4,
   "id": "dea8aabd-79c8-450e-a0be-4bf4523ad27f",
   "metadata": {},
   "outputs": [],
   "source": [
    "# Question 4: Explain Bayes's theorem with an example.\n",
    "# Answer:\n",
    "# - Bayes's Theorem describes the probability of an event based on prior knowledge of conditions that might be related to the event.\n",
    "# - Formula: P(A|B) = [P(B|A) * P(A)] / P(B)\n",
    "# - Example: Suppose you want to calculate the probability that a person has a disease given that they tested positive. You would use Bayes's Theorem to update the probability based on the test's accuracy and the prior probability of having the disease.\n"
   ]
  },
  {
   "cell_type": "code",
   "execution_count": 5,
   "id": "289682bc-6310-4848-88b8-fbe5d163457a",
   "metadata": {},
   "outputs": [
    {
     "data": {
      "text/plain": [
       "(48.210805856282846, 51.789194143717154)"
      ]
     },
     "execution_count": 5,
     "metadata": {},
     "output_type": "execute_result"
    }
   ],
   "source": [
    "# Question 5: What is a confidence interval? How to calculate the confidence interval, explain with an example.\n",
    "# Answer:\n",
    "# - A confidence interval is a range of values that is likely to contain the true population parameter with a certain level of confidence (e.g., 95%).\n",
    "# - Formula for confidence interval for a mean: CI = x̄ ± Z * (σ/√n)\n",
    "# - Example: If the sample mean is 50, the standard deviation is 5, and the sample size is 30, the 95% confidence interval would be calculated as follows.\n",
    "\n",
    "import scipy.stats as stats\n",
    "import numpy as np\n",
    "\n",
    "mean = 50\n",
    "std_dev = 5\n",
    "n = 30\n",
    "confidence_level = 0.95\n",
    "\n",
    "# Calculate the z-score for the desired confidence level\n",
    "z_score = stats.norm.ppf((1 + confidence_level) / 2)\n",
    "\n",
    "# Calculate the margin of error\n",
    "margin_of_error = z_score * (std_dev / np.sqrt(n))\n",
    "\n",
    "# Calculate the confidence interval\n",
    "confidence_interval = (mean - margin_of_error, mean + margin_of_error)\n",
    "confidence_interval\n"
   ]
  },
  {
   "cell_type": "code",
   "execution_count": 6,
   "id": "aef74473-686d-4911-98ea-682292a502f5",
   "metadata": {},
   "outputs": [
    {
     "data": {
      "text/plain": [
       "0.5"
      ]
     },
     "execution_count": 6,
     "metadata": {},
     "output_type": "execute_result"
    }
   ],
   "source": [
    "# Question 6: Use Bayes' Theorem to calculate the probability of an event occurring given prior knowledge of the event's probability and new evidence. Provide a sample problem and solution.\n",
    "# Answer:\n",
    "# Suppose there is a 1% chance that a person has a certain disease. A test for the disease is 99% accurate (both sensitivity and specificity). \n",
    "# If a person tests positive, what is the probability that they actually have the disease?\n",
    "\n",
    "# Given:\n",
    "# P(Disease) = 0.01 (Prior probability of having the disease)\n",
    "# P(No Disease) = 0.99\n",
    "# P(Test Positive | Disease) = 0.99 (Sensitivity)\n",
    "# P(Test Positive | No Disease) = 0.01 (1 - Specificity)\n",
    "\n",
    "# Applying Bayes' Theorem:\n",
    "P_Disease = 0.01\n",
    "P_No_Disease = 0.99\n",
    "P_Positive_given_Disease = 0.99\n",
    "P_Positive_given_No_Disease = 0.01\n",
    "\n",
    "# P(Disease | Test Positive) = [P(Test Positive | Disease) * P(Disease)] / [P(Test Positive | Disease) * P(Disease) + P(Test Positive | No Disease) * P(No Disease)]\n",
    "P_Disease_given_Positive = (P_Positive_given_Disease * P_Disease) / (\n",
    "    P_Positive_given_Disease * P_Disease + P_Positive_given_No_Disease * P_No_Disease\n",
    ")\n",
    "P_Disease_given_Positive\n",
    "\n"
   ]
  },
  {
   "cell_type": "code",
   "execution_count": 7,
   "id": "584cd786-d85b-4356-b483-62f0b2ef7225",
   "metadata": {},
   "outputs": [],
   "source": [
    "# Question 7: Calculate the 95% confidence interval for a sample of data with a mean of 50 and a standard deviation of 5. Interpret the results.\n",
    "# Answer:\n",
    "# This is similar to Question 5. We already calculated the confidence interval, which can be interpreted as:\n",
    "# \"We are 95% confident that the true population mean lies within this interval.\"\n"
   ]
  },
  {
   "cell_type": "code",
   "execution_count": 8,
   "id": "377fdff2-18e7-44fc-b0cd-153b5b88190c",
   "metadata": {},
   "outputs": [],
   "source": [
    "# Question 8: What is the margin of error in a confidence interval? How does sample size affect the margin of error?\n",
    "# Answer:\n",
    "# - The margin of error is the range that defines the confidence interval around the sample mean.\n",
    "# - It decreases with an increase in sample size because the standard error (σ/√n) decreases.\n",
    "# - Example: A larger sample size in a survey will reduce the margin of error, leading to a narrower confidence interval.\n"
   ]
  },
  {
   "cell_type": "code",
   "execution_count": 9,
   "id": "c01bc133-cc4d-444b-afba-7fdb93bb5eac",
   "metadata": {},
   "outputs": [
    {
     "data": {
      "text/plain": [
       "1.0"
      ]
     },
     "execution_count": 9,
     "metadata": {},
     "output_type": "execute_result"
    }
   ],
   "source": [
    "# Question 9: Calculate the z-score for a data point with a value of 75, a population mean of 70, and a population standard deviation of 5. Interpret the results.\n",
    "# Answer:\n",
    "# Formula: Z = (X - μ) / σ\n",
    "x = 75\n",
    "population_mean = 70\n",
    "population_std_dev = 5\n",
    "\n",
    "z_score = (x - population_mean) / population_std_dev\n",
    "z_score\n",
    "\n",
    "# Interpretation: A z-score of 1 indicates that the data point is 1 standard deviation above the mean.\n",
    "\n"
   ]
  },
  {
   "cell_type": "code",
   "execution_count": 10,
   "id": "db4053b8-2d4a-4084-9835-539db29bb262",
   "metadata": {},
   "outputs": [
    {
     "data": {
      "text/plain": [
       "(16.970562748477143, 3.7168840835270203e-22)"
      ]
     },
     "execution_count": 10,
     "metadata": {},
     "output_type": "execute_result"
    }
   ],
   "source": [
    "# Question 10: In a study of the effectiveness of a new weight loss drug, a sample of 50 participants lost an average of 6 pounds with a standard deviation of 2.5 pounds. Conduct a hypothesis test to determine if the drug is significantly effective at a 95% confidence level using a t-test.\n",
    "# Answer:\n",
    "# Null Hypothesis (H0): The mean weight loss is not significantly different from 0.\n",
    "# Alternative Hypothesis (H1): The mean weight loss is significantly different from 0.\n",
    "\n",
    "# Use a one-sample t-test:\n",
    "sample_mean = 6\n",
    "sample_std_dev = 2.5\n",
    "n = 50\n",
    "null_hypothesis_mean = 0\n",
    "\n",
    "# Calculate the t-statistic\n",
    "t_statistic = (sample_mean - null_hypothesis_mean) / (sample_std_dev / np.sqrt(n))\n",
    "\n",
    "# Calculate the p-value\n",
    "p_value = stats.t.sf(np.abs(t_statistic), df=n-1) * 2  # Two-tailed test\n",
    "\n",
    "t_statistic, p_value\n",
    "\n",
    "# If p-value < 0.05, reject the null hypothesis and conclude that the drug is significantly effective.\n",
    "\n"
   ]
  },
  {
   "cell_type": "code",
   "execution_count": 11,
   "id": "61ee3316-1329-4d05-b6f4-b291d4e75fab",
   "metadata": {},
   "outputs": [
    {
     "data": {
      "text/plain": [
       "(0.6081925393809212, 0.6918074606190788)"
      ]
     },
     "execution_count": 11,
     "metadata": {},
     "output_type": "execute_result"
    }
   ],
   "source": [
    "# Question 11: In a survey of 500 people, 65% reported being satisfied with their current job. Calculate the 95% confidence interval for the true proportion of people who are satisfied with their job.\n",
    "# Answer:\n",
    "n = 500\n",
    "p_hat = 0.65\n",
    "z_score = stats.norm.ppf(0.975)  # 95% confidence\n",
    "\n",
    "# Calculate standard error\n",
    "std_error = np.sqrt((p_hat * (1 - p_hat)) / n)\n",
    "\n",
    "# Calculate confidence interval\n",
    "confidence_interval = (p_hat - z_score * std_error, p_hat + z_score * std_error)\n",
    "confidence_interval\n",
    "\n"
   ]
  },
  {
   "cell_type": "code",
   "execution_count": 12,
   "id": "2ffb4234-fc98-4d70-9229-fc6486c964dd",
   "metadata": {},
   "outputs": [
    {
     "data": {
      "text/plain": [
       "(2.1038606199548298, 0.03973697161571063)"
      ]
     },
     "execution_count": 12,
     "metadata": {},
     "output_type": "execute_result"
    }
   ],
   "source": [
    "# Question 12: A researcher is testing the effectiveness of two different teaching methods on student performance. Sample A has a mean score of 85 with a standard deviation of 6, while sample B has a mean score of 82 with a standard deviation of 5. Conduct a hypothesis test to determine if the two teaching methods have a significant difference in student performance using a t-test with a significance level of 0.01.\n",
    "# Answer:\n",
    "# Null Hypothesis (H0): There is no significant difference between the means of the two samples.\n",
    "# Alternative Hypothesis (H1): There is a significant difference between the means of the two samples.\n",
    "\n",
    "mean_A = 85\n",
    "std_dev_A = 6\n",
    "n_A = 30\n",
    "\n",
    "mean_B = 82\n",
    "std_dev_B = 5\n",
    "n_B = 30\n",
    "\n",
    "# Calculate the t-statistic for independent samples\n",
    "t_statistic, p_value = stats.ttest_ind_from_stats(mean1=mean_A, std1=std_dev_A, nobs1=n_A, mean2=mean_B, std2=std_dev_B, nobs2=n_B)\n",
    "\n",
    "t_statistic, p_value\n",
    "\n",
    "# If p-value < 0.01, reject the null hypothesis and conclude that there is a significant difference between the two teaching methods.\n",
    "\n"
   ]
  },
  {
   "cell_type": "code",
   "execution_count": 13,
   "id": "9251092d-37cf-4d6f-abed-c55d2ef34d66",
   "metadata": {},
   "outputs": [
    {
     "data": {
      "text/plain": [
       "(63.13906055411732, 66.86093944588268)"
      ]
     },
     "execution_count": 13,
     "metadata": {},
     "output_type": "execute_result"
    }
   ],
   "source": [
    "# Question 13: A population has a mean of 60 and a standard deviation of 8. A sample of 50 observations has a mean of 65. Calculate the 90% confidence interval for the true population mean.\n",
    "# Answer:\n",
    "population_mean = 60\n",
    "population_std_dev = 8\n",
    "sample_size = 50\n",
    "sample_mean = 65\n",
    "\n",
    "# Calculate the z-score for 90% confidence level\n",
    "z_score = stats.norm.ppf(0.95)\n",
    "\n",
    "# Calculate the margin of error\n",
    "margin_of_error = z_score * (population_std_dev / np.sqrt(sample_size))\n",
    "\n",
    "# Calculate the confidence interval\n",
    "confidence_interval = (sample_mean - margin_of_error, sample_mean + margin_of_error)\n",
    "confidence_interval\n"
   ]
  },
  {
   "cell_type": "code",
   "execution_count": 14,
   "id": "ca8b4797-1f72-4be5-88e3-5d11e1c26e6d",
   "metadata": {},
   "outputs": [
    {
     "data": {
      "text/plain": [
       "(-5.47722557505166, 6.739145346941606e-06)"
      ]
     },
     "execution_count": 14,
     "metadata": {},
     "output_type": "execute_result"
    }
   ],
   "source": [
    "# Question 14: In a study of the effects of caffeine on reaction time, a sample of 30 participants had an average reaction time of 0.25 seconds with a standard deviation of 0.05 seconds. Conduct a hypothesis test to determine if the caffeine has a significant effect on reaction time at a 90% confidence level using a t-test.\n",
    "# Answer:\n",
    "# Null Hypothesis (H0): The average reaction time is not significantly different from a specified mean (e.g., 0.3 seconds).\n",
    "# Alternative Hypothesis (H1): The average reaction time is significantly different from 0.3 seconds.\n",
    "\n",
    "# Use a one-sample t-test:\n",
    "sample_mean = 0.25\n",
    "sample_std_dev = 0.05\n",
    "n = 30\n",
    "null_hypothesis_mean = 0.3\n",
    "\n",
    "# Calculate the t-statistic\n",
    "t_statistic = (sample_mean - null_hypothesis_mean) / (sample_std_dev / np.sqrt(n))\n",
    "\n",
    "# Calculate the p-value\n",
    "p_value = stats.t.sf(np.abs(t_statistic), df=n-1) * 2  # Two-tailed test\n",
    "\n",
    "t_statistic, p_value\n",
    "\n",
    "# If p-value < 0.1, reject the null hypothesis and conclude that caffeine has a significant effect on reaction time."
   ]
  },
  {
   "cell_type": "code",
   "execution_count": null,
   "id": "9d9576dc-fef1-457f-b81e-05631d886b27",
   "metadata": {},
   "outputs": [],
   "source": []
  }
 ],
 "metadata": {
  "kernelspec": {
   "display_name": "Python 3 (ipykernel)",
   "language": "python",
   "name": "python3"
  },
  "language_info": {
   "codemirror_mode": {
    "name": "ipython",
    "version": 3
   },
   "file_extension": ".py",
   "mimetype": "text/x-python",
   "name": "python",
   "nbconvert_exporter": "python",
   "pygments_lexer": "ipython3",
   "version": "3.11.5"
  }
 },
 "nbformat": 4,
 "nbformat_minor": 5
}
