{
 "cells": [
  {
   "cell_type": "code",
   "execution_count": 1,
   "id": "b30737e1-f8be-4dab-bd41-6896d5767927",
   "metadata": {},
   "outputs": [],
   "source": [
    "# Q1. What is Flask Framework? What are the advantages of Flask Framework?\n",
    "\n",
    "# Answer:\n",
    "# Flask is a lightweight, micro web framework written in Python. It is designed to be simple and easy to use, \n",
    "# allowing developers to create web applications quickly. Flask is built on the WSGI toolkit and the Jinja2 template \n",
    "# engine, and it provides the essentials needed to build a web application without enforcing any particular \n",
    "# project structure or dependencies.\n",
    "\n",
    "# **Advantages of Flask Framework:**\n",
    "# - **Lightweight and Flexible:** Flask is a minimalistic framework, making it easy to start with and flexible \n",
    "#   enough to scale with your application.\n",
    "# - **Modular:** Flask is modular, allowing developers to choose and integrate extensions and libraries \n",
    "#   as needed, rather than being forced into a monolithic structure.\n",
    "# - **Easy to Learn:** Flask has a simple and intuitive API, making it beginner-friendly and suitable for small \n",
    "#   to medium-sized projects.\n",
    "# - **Extensible:** Flask can be extended with a variety of extensions that provide additional functionality \n",
    "#   such as database integration, form validation, and authentication.\n",
    "# - **Integrated Unit Testing:** Flask has built-in support for unit testing, making it easier to develop and \n",
    "#   maintain high-quality applications.\n"
   ]
  },
  {
   "cell_type": "code",
   "execution_count": 3,
   "id": "4b615614-324b-4569-9c5a-8334b8e21069",
   "metadata": {},
   "outputs": [],
   "source": [
    "# Q3. What is App routing in Flask? Why do we use app routes?\n",
    "\n",
    "# Answer:\n",
    "# **App Routing in Flask:**\n",
    "# App routing refers to the mechanism of mapping URLs (web addresses) to functions in a Flask web application. \n",
    "# Each route in Flask is associated with a specific URL path, and when that URL is accessed in a web browser, \n",
    "# the corresponding function (also known as a view function) is executed, generating the response for the client.\n",
    "\n",
    "# **Why Use App Routes:**\n",
    "# - **URL Mapping:** Routes are used to map specific URLs to specific functions, allowing for organized \n",
    "#   and structured web applications.\n",
    "# - **Handling Different Pages:** Different routes can handle different pages or endpoints in a web application, \n",
    "#   such as the homepage, about page, or user profile.\n",
    "# - **Dynamic Content:** Routes can accept dynamic parameters, allowing developers to create URLs that can \n",
    "#   change based on user input or other factors.\n",
    "\n",
    "# Example:\n",
    "# ```python\n",
    "# @app.route('/hello')\n",
    "# def hello():\n",
    "#     return 'Hello World'\n",
    "# ```"
   ]
  },
  {
   "cell_type": "raw",
   "id": "c6c5bcf0-1a57-43a7-a6ca-6e3ac031510b",
   "metadata": {},
   "source": [
    "\"\"\" # Q4. Create a “/welcome” route to display the welcome message “Welcome to ABC Corporation” and a “/” route to show the following details:\n",
    "# Company Name: ABC Corporation\n",
    "# Location: India\n",
    "# Contact Detail: 999-999-9999\n",
    "# Attach the screenshot of the output in Jupyter Notebook.\n",
    "\n",
    "# Answer:\n",
    "from flask import Flask\n",
    "\n",
    "app = Flask(__name__)\n",
    "\n",
    "# @app.route('/welcome')\n",
    "# def welcome():\n",
    "  #  return 'Welcome to ABC Corporation'\n",
    "\n",
    "# @app.route('/')\n",
    "# def company_details():\n",
    "  ###  return '''\n",
    "    Company Name: ABC Corporation<br>\n",
    "    Location: India<br>\n",
    "    Contact Detail: 999-999-9999\n",
    "    '''\n",
    "\n",
    "if __name__ == \"__main__\":\n",
    "    app.run(debug=True)\n",
    "\n",
    "# (Run this code in a separate environment where Flask can be executed. Open the \"/welcome\" and \"/\" routes in a web browser \n",
    "# and attach the screenshots of the outputs here in the Jupyter Notebook.) \"\"\""
   ]
  },
  {
   "cell_type": "code",
   "execution_count": null,
   "id": "a87f4116-4870-4948-8951-f1ece9eaed49",
   "metadata": {},
   "outputs": [],
   "source": []
  }
 ],
 "metadata": {
  "kernelspec": {
   "display_name": "Python 3 (ipykernel)",
   "language": "python",
   "name": "python3"
  },
  "language_info": {
   "codemirror_mode": {
    "name": "ipython",
    "version": 3
   },
   "file_extension": ".py",
   "mimetype": "text/x-python",
   "name": "python",
   "nbconvert_exporter": "python",
   "pygments_lexer": "ipython3",
   "version": "3.11.5"
  }
 },
 "nbformat": 4,
 "nbformat_minor": 5
}
