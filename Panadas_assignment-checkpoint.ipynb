{
 "cells": [
  {
   "cell_type": "markdown",
   "id": "44c8a70c",
   "metadata": {},
   "source": [
    "# Q1. Create a Pandas Series that contains the following data: 4, 8, 15, 16, 23, and 42. Then, print the series."
   ]
  },
  {
   "cell_type": "code",
   "execution_count": 1,
   "id": "be70ee43",
   "metadata": {},
   "outputs": [],
   "source": [
    "import pandas as pd"
   ]
  },
  {
   "cell_type": "code",
   "execution_count": 7,
   "id": "416931ff",
   "metadata": {},
   "outputs": [],
   "source": [
    "df = [4, 8, 15, 16, 23, 42]"
   ]
  },
  {
   "cell_type": "code",
   "execution_count": 8,
   "id": "2f68f036",
   "metadata": {},
   "outputs": [],
   "source": [
    "df1 = pd.Series(df)"
   ]
  },
  {
   "cell_type": "code",
   "execution_count": 9,
   "id": "b892ee70",
   "metadata": {},
   "outputs": [
    {
     "data": {
      "text/plain": [
       "0     4\n",
       "1     8\n",
       "2    15\n",
       "3    16\n",
       "4    23\n",
       "5    42\n",
       "dtype: int64"
      ]
     },
     "execution_count": 9,
     "metadata": {},
     "output_type": "execute_result"
    }
   ],
   "source": [
    "df1"
   ]
  },
  {
   "cell_type": "markdown",
   "id": "c2adcf59",
   "metadata": {},
   "source": [
    "# Q2. Create a variable of list type containing 10 elements in it, and apply pandas.Series function on the variable and print it."
   ]
  },
  {
   "cell_type": "code",
   "execution_count": 10,
   "id": "4c7e10d0",
   "metadata": {},
   "outputs": [],
   "source": [
    "list_1 = [10, 20, 30, 40, 50, 60, 70, 80, 90, 100]"
   ]
  },
  {
   "cell_type": "code",
   "execution_count": 11,
   "id": "bb259dbf",
   "metadata": {},
   "outputs": [],
   "source": [
    "list_2 = pd.Series(list_1)"
   ]
  },
  {
   "cell_type": "code",
   "execution_count": 12,
   "id": "470b2c5d",
   "metadata": {},
   "outputs": [
    {
     "data": {
      "text/plain": [
       "0     10\n",
       "1     20\n",
       "2     30\n",
       "3     40\n",
       "4     50\n",
       "5     60\n",
       "6     70\n",
       "7     80\n",
       "8     90\n",
       "9    100\n",
       "dtype: int64"
      ]
     },
     "execution_count": 12,
     "metadata": {},
     "output_type": "execute_result"
    }
   ],
   "source": [
    "list_2"
   ]
  },
  {
   "cell_type": "markdown",
   "id": "290ad002",
   "metadata": {},
   "source": [
    "# Q3. Create a Pandas DataFrame that contains the following data:"
   ]
  },
  {
   "cell_type": "code",
   "execution_count": 17,
   "id": "031fc253",
   "metadata": {},
   "outputs": [],
   "source": [
    "data = [['Alice',25,'Female'], ['Bob',30,'Male'], ['Caire',27,'Female']]"
   ]
  },
  {
   "cell_type": "code",
   "execution_count": 22,
   "id": "4940587b",
   "metadata": {},
   "outputs": [],
   "source": [
    "dataframe1 = pd.DataFrame(data, columns=['Name','Age','Gender'])"
   ]
  },
  {
   "cell_type": "code",
   "execution_count": 23,
   "id": "6a088caa",
   "metadata": {},
   "outputs": [
    {
     "data": {
      "text/html": [
       "<div>\n",
       "<style scoped>\n",
       "    .dataframe tbody tr th:only-of-type {\n",
       "        vertical-align: middle;\n",
       "    }\n",
       "\n",
       "    .dataframe tbody tr th {\n",
       "        vertical-align: top;\n",
       "    }\n",
       "\n",
       "    .dataframe thead th {\n",
       "        text-align: right;\n",
       "    }\n",
       "</style>\n",
       "<table border=\"1\" class=\"dataframe\">\n",
       "  <thead>\n",
       "    <tr style=\"text-align: right;\">\n",
       "      <th></th>\n",
       "      <th>Name</th>\n",
       "      <th>Age</th>\n",
       "      <th>Gender</th>\n",
       "    </tr>\n",
       "  </thead>\n",
       "  <tbody>\n",
       "    <tr>\n",
       "      <th>0</th>\n",
       "      <td>Alice</td>\n",
       "      <td>25</td>\n",
       "      <td>Female</td>\n",
       "    </tr>\n",
       "    <tr>\n",
       "      <th>1</th>\n",
       "      <td>Bob</td>\n",
       "      <td>30</td>\n",
       "      <td>Male</td>\n",
       "    </tr>\n",
       "    <tr>\n",
       "      <th>2</th>\n",
       "      <td>Caire</td>\n",
       "      <td>27</td>\n",
       "      <td>Female</td>\n",
       "    </tr>\n",
       "  </tbody>\n",
       "</table>\n",
       "</div>"
      ],
      "text/plain": [
       "    Name  Age  Gender\n",
       "0  Alice   25  Female\n",
       "1    Bob   30    Male\n",
       "2  Caire   27  Female"
      ]
     },
     "execution_count": 23,
     "metadata": {},
     "output_type": "execute_result"
    }
   ],
   "source": [
    "dataframe1"
   ]
  },
  {
   "cell_type": "markdown",
   "id": "fb458f7e",
   "metadata": {},
   "source": [
    "# Q4. What is ‘DataFrame’ in pandas and how is it different from pandas.series? Explain with an example."
   ]
  },
  {
   "cell_type": "markdown",
   "id": "b9d0ae42",
   "metadata": {},
   "source": [
    "Dataframe is a structured table with rows and columns. It is 2-dimensional in nature. dataframes can have multiple series.\n",
    "Series is a single list with index.\n",
    "For eg. \n",
    "above given variable 'dataframe' is a dataframe whereas 'df1' is a series"
   ]
  },
  {
   "cell_type": "markdown",
   "id": "98dac53a",
   "metadata": {},
   "source": [
    "# Q5. What are some common functions you can use to manipulate data in a Pandas DataFrame? Can you give an example of when you might use one of these functions?"
   ]
  },
  {
   "cell_type": "markdown",
   "id": "245fc0b2",
   "metadata": {},
   "source": [
    "Some common functions that are used to manipulate data in a pandas dataframe are:\n",
    "    "
   ]
  },
  {
   "cell_type": "code",
   "execution_count": 29,
   "id": "e3d2a232",
   "metadata": {},
   "outputs": [],
   "source": [
    "## example of a dataset\n",
    "example = pd.read_csv('output.csv')"
   ]
  },
  {
   "cell_type": "code",
   "execution_count": 31,
   "id": "7f9b12c3",
   "metadata": {},
   "outputs": [
    {
     "data": {
      "text/html": [
       "<div>\n",
       "<style scoped>\n",
       "    .dataframe tbody tr th:only-of-type {\n",
       "        vertical-align: middle;\n",
       "    }\n",
       "\n",
       "    .dataframe tbody tr th {\n",
       "        vertical-align: top;\n",
       "    }\n",
       "\n",
       "    .dataframe thead th {\n",
       "        text-align: right;\n",
       "    }\n",
       "</style>\n",
       "<table border=\"1\" class=\"dataframe\">\n",
       "  <thead>\n",
       "    <tr style=\"text-align: right;\">\n",
       "      <th></th>\n",
       "      <th>Feature1</th>\n",
       "      <th>Feature2</th>\n",
       "      <th>Feature3</th>\n",
       "      <th>Feature4</th>\n",
       "      <th>Feature5</th>\n",
       "      <th>Feature6</th>\n",
       "      <th>Feature7</th>\n",
       "      <th>Feature8</th>\n",
       "      <th>Feature9</th>\n",
       "      <th>Feature10</th>\n",
       "      <th>Feature11</th>\n",
       "      <th>Feature12</th>\n",
       "      <th>Feature13</th>\n",
       "      <th>Feature14</th>\n",
       "      <th>Feature15</th>\n",
       "      <th>Feature16</th>\n",
       "      <th>Feature17</th>\n",
       "      <th>Feature18</th>\n",
       "      <th>Feature19</th>\n",
       "      <th>Feature20</th>\n",
       "    </tr>\n",
       "  </thead>\n",
       "  <tbody>\n",
       "    <tr>\n",
       "      <th>0</th>\n",
       "      <td>44.0</td>\n",
       "      <td>0.797417</td>\n",
       "      <td>-0.958091</td>\n",
       "      <td>NaN</td>\n",
       "      <td>NaN</td>\n",
       "      <td>158.0</td>\n",
       "      <td>1.490148</td>\n",
       "      <td>5.166124</td>\n",
       "      <td>2.277942</td>\n",
       "      <td>NaN</td>\n",
       "      <td>5</td>\n",
       "      <td>X</td>\n",
       "      <td>1</td>\n",
       "      <td>Category1</td>\n",
       "      <td>Option4</td>\n",
       "      <td>8.824345</td>\n",
       "      <td>11.711130</td>\n",
       "      <td>Yes</td>\n",
       "      <td>Low</td>\n",
       "      <td>NaN</td>\n",
       "    </tr>\n",
       "    <tr>\n",
       "      <th>1</th>\n",
       "      <td>47.0</td>\n",
       "      <td>0.026838</td>\n",
       "      <td>-0.244178</td>\n",
       "      <td>D</td>\n",
       "      <td>NaN</td>\n",
       "      <td>NaN</td>\n",
       "      <td>2.151535</td>\n",
       "      <td>0.450312</td>\n",
       "      <td>-3.395356</td>\n",
       "      <td>NaN</td>\n",
       "      <td>3</td>\n",
       "      <td>X</td>\n",
       "      <td>0</td>\n",
       "      <td>Category1</td>\n",
       "      <td>Option2</td>\n",
       "      <td>NaN</td>\n",
       "      <td>13.355832</td>\n",
       "      <td>Yes</td>\n",
       "      <td>Low</td>\n",
       "      <td>cat</td>\n",
       "    </tr>\n",
       "    <tr>\n",
       "      <th>2</th>\n",
       "      <td>64.0</td>\n",
       "      <td>0.199990</td>\n",
       "      <td>-1.014799</td>\n",
       "      <td>B</td>\n",
       "      <td>0.0</td>\n",
       "      <td>474.0</td>\n",
       "      <td>1.410613</td>\n",
       "      <td>6.786555</td>\n",
       "      <td>-3.070746</td>\n",
       "      <td>NaN</td>\n",
       "      <td>7</td>\n",
       "      <td>Z</td>\n",
       "      <td>0</td>\n",
       "      <td>Category1</td>\n",
       "      <td>Option2</td>\n",
       "      <td>NaN</td>\n",
       "      <td>13.449484</td>\n",
       "      <td>Yes</td>\n",
       "      <td>Medium</td>\n",
       "      <td>dog</td>\n",
       "    </tr>\n",
       "    <tr>\n",
       "      <th>3</th>\n",
       "      <td>67.0</td>\n",
       "      <td>0.474124</td>\n",
       "      <td>0.448040</td>\n",
       "      <td>B</td>\n",
       "      <td>NaN</td>\n",
       "      <td>166.0</td>\n",
       "      <td>0.635091</td>\n",
       "      <td>1.937158</td>\n",
       "      <td>-0.246269</td>\n",
       "      <td>6.004975</td>\n",
       "      <td>20</td>\n",
       "      <td>X</td>\n",
       "      <td>0</td>\n",
       "      <td>Category1</td>\n",
       "      <td>Option2</td>\n",
       "      <td>NaN</td>\n",
       "      <td>7.687652</td>\n",
       "      <td>Yes</td>\n",
       "      <td>Low</td>\n",
       "      <td>cat</td>\n",
       "    </tr>\n",
       "    <tr>\n",
       "      <th>4</th>\n",
       "      <td>NaN</td>\n",
       "      <td>0.598516</td>\n",
       "      <td>0.087839</td>\n",
       "      <td>NaN</td>\n",
       "      <td>0.0</td>\n",
       "      <td>NaN</td>\n",
       "      <td>0.392104</td>\n",
       "      <td>4.010937</td>\n",
       "      <td>3.215086</td>\n",
       "      <td>2.891199</td>\n",
       "      <td>3</td>\n",
       "      <td>Z</td>\n",
       "      <td>0</td>\n",
       "      <td>Category1</td>\n",
       "      <td>Option3</td>\n",
       "      <td>11.259371</td>\n",
       "      <td>6.807770</td>\n",
       "      <td>Yes</td>\n",
       "      <td>Low</td>\n",
       "      <td>cat</td>\n",
       "    </tr>\n",
       "  </tbody>\n",
       "</table>\n",
       "</div>"
      ],
      "text/plain": [
       "   Feature1  Feature2  Feature3 Feature4  Feature5  Feature6  Feature7  \\\n",
       "0      44.0  0.797417 -0.958091      NaN       NaN     158.0  1.490148   \n",
       "1      47.0  0.026838 -0.244178        D       NaN       NaN  2.151535   \n",
       "2      64.0  0.199990 -1.014799        B       0.0     474.0  1.410613   \n",
       "3      67.0  0.474124  0.448040        B       NaN     166.0  0.635091   \n",
       "4       NaN  0.598516  0.087839      NaN       0.0       NaN  0.392104   \n",
       "\n",
       "   Feature8  Feature9  Feature10  Feature11 Feature12  Feature13  Feature14  \\\n",
       "0  5.166124  2.277942        NaN          5         X          1  Category1   \n",
       "1  0.450312 -3.395356        NaN          3         X          0  Category1   \n",
       "2  6.786555 -3.070746        NaN          7         Z          0  Category1   \n",
       "3  1.937158 -0.246269   6.004975         20         X          0  Category1   \n",
       "4  4.010937  3.215086   2.891199          3         Z          0  Category1   \n",
       "\n",
       "  Feature15  Feature16  Feature17 Feature18 Feature19 Feature20  \n",
       "0   Option4   8.824345  11.711130       Yes       Low       NaN  \n",
       "1   Option2        NaN  13.355832       Yes       Low       cat  \n",
       "2   Option2        NaN  13.449484       Yes    Medium       dog  \n",
       "3   Option2        NaN   7.687652       Yes       Low       cat  \n",
       "4   Option3  11.259371   6.807770       Yes       Low       cat  "
      ]
     },
     "execution_count": 31,
     "metadata": {},
     "output_type": "execute_result"
    }
   ],
   "source": [
    "##head function\n",
    "example.head()"
   ]
  },
  {
   "cell_type": "code",
   "execution_count": 32,
   "id": "2a113064",
   "metadata": {},
   "outputs": [
    {
     "data": {
      "text/html": [
       "<div>\n",
       "<style scoped>\n",
       "    .dataframe tbody tr th:only-of-type {\n",
       "        vertical-align: middle;\n",
       "    }\n",
       "\n",
       "    .dataframe tbody tr th {\n",
       "        vertical-align: top;\n",
       "    }\n",
       "\n",
       "    .dataframe thead th {\n",
       "        text-align: right;\n",
       "    }\n",
       "</style>\n",
       "<table border=\"1\" class=\"dataframe\">\n",
       "  <thead>\n",
       "    <tr style=\"text-align: right;\">\n",
       "      <th></th>\n",
       "      <th>Feature1</th>\n",
       "      <th>Feature2</th>\n",
       "      <th>Feature3</th>\n",
       "      <th>Feature4</th>\n",
       "      <th>Feature5</th>\n",
       "      <th>Feature6</th>\n",
       "      <th>Feature7</th>\n",
       "      <th>Feature8</th>\n",
       "      <th>Feature9</th>\n",
       "      <th>Feature10</th>\n",
       "      <th>Feature11</th>\n",
       "      <th>Feature12</th>\n",
       "      <th>Feature13</th>\n",
       "      <th>Feature14</th>\n",
       "      <th>Feature15</th>\n",
       "      <th>Feature16</th>\n",
       "      <th>Feature17</th>\n",
       "      <th>Feature18</th>\n",
       "      <th>Feature19</th>\n",
       "      <th>Feature20</th>\n",
       "    </tr>\n",
       "  </thead>\n",
       "  <tbody>\n",
       "    <tr>\n",
       "      <th>4995</th>\n",
       "      <td>NaN</td>\n",
       "      <td>0.819440</td>\n",
       "      <td>0.415931</td>\n",
       "      <td>C</td>\n",
       "      <td>0.0</td>\n",
       "      <td>NaN</td>\n",
       "      <td>1.765590</td>\n",
       "      <td>1.929735</td>\n",
       "      <td>-1.951884</td>\n",
       "      <td>NaN</td>\n",
       "      <td>1</td>\n",
       "      <td>Z</td>\n",
       "      <td>1</td>\n",
       "      <td>Category2</td>\n",
       "      <td>Option4</td>\n",
       "      <td>NaN</td>\n",
       "      <td>14.821501</td>\n",
       "      <td>No</td>\n",
       "      <td>Low</td>\n",
       "      <td>NaN</td>\n",
       "    </tr>\n",
       "    <tr>\n",
       "      <th>4996</th>\n",
       "      <td>NaN</td>\n",
       "      <td>0.032140</td>\n",
       "      <td>-1.445420</td>\n",
       "      <td>C</td>\n",
       "      <td>1.0</td>\n",
       "      <td>NaN</td>\n",
       "      <td>0.806246</td>\n",
       "      <td>8.765315</td>\n",
       "      <td>-1.866815</td>\n",
       "      <td>NaN</td>\n",
       "      <td>1</td>\n",
       "      <td>Y</td>\n",
       "      <td>0</td>\n",
       "      <td>Category3</td>\n",
       "      <td>Option4</td>\n",
       "      <td>6.368173</td>\n",
       "      <td>5.308922</td>\n",
       "      <td>Yes</td>\n",
       "      <td>Medium</td>\n",
       "      <td>NaN</td>\n",
       "    </tr>\n",
       "    <tr>\n",
       "      <th>4997</th>\n",
       "      <td>92.0</td>\n",
       "      <td>0.263300</td>\n",
       "      <td>0.986722</td>\n",
       "      <td>C</td>\n",
       "      <td>NaN</td>\n",
       "      <td>78.0</td>\n",
       "      <td>1.326853</td>\n",
       "      <td>4.489722</td>\n",
       "      <td>1.720671</td>\n",
       "      <td>6.877962</td>\n",
       "      <td>1</td>\n",
       "      <td>X</td>\n",
       "      <td>0</td>\n",
       "      <td>Category1</td>\n",
       "      <td>Option4</td>\n",
       "      <td>5.682022</td>\n",
       "      <td>9.508951</td>\n",
       "      <td>Yes</td>\n",
       "      <td>Medium</td>\n",
       "      <td>NaN</td>\n",
       "    </tr>\n",
       "    <tr>\n",
       "      <th>4998</th>\n",
       "      <td>91.0</td>\n",
       "      <td>0.640986</td>\n",
       "      <td>-1.199847</td>\n",
       "      <td>A</td>\n",
       "      <td>0.0</td>\n",
       "      <td>51.0</td>\n",
       "      <td>0.312256</td>\n",
       "      <td>2.773963</td>\n",
       "      <td>-3.320704</td>\n",
       "      <td>6.138322</td>\n",
       "      <td>2</td>\n",
       "      <td>X</td>\n",
       "      <td>0</td>\n",
       "      <td>Category1</td>\n",
       "      <td>Option3</td>\n",
       "      <td>4.574748</td>\n",
       "      <td>8.705127</td>\n",
       "      <td>No</td>\n",
       "      <td>Medium</td>\n",
       "      <td>some other</td>\n",
       "    </tr>\n",
       "    <tr>\n",
       "      <th>4999</th>\n",
       "      <td>NaN</td>\n",
       "      <td>0.901570</td>\n",
       "      <td>1.836382</td>\n",
       "      <td>NaN</td>\n",
       "      <td>0.0</td>\n",
       "      <td>NaN</td>\n",
       "      <td>2.087461</td>\n",
       "      <td>6.854886</td>\n",
       "      <td>-0.259228</td>\n",
       "      <td>6.068139</td>\n",
       "      <td>6</td>\n",
       "      <td>X</td>\n",
       "      <td>0</td>\n",
       "      <td>Category2</td>\n",
       "      <td>Option2</td>\n",
       "      <td>12.801075</td>\n",
       "      <td>14.686372</td>\n",
       "      <td>Yes</td>\n",
       "      <td>High</td>\n",
       "      <td>some other</td>\n",
       "    </tr>\n",
       "  </tbody>\n",
       "</table>\n",
       "</div>"
      ],
      "text/plain": [
       "      Feature1  Feature2  Feature3 Feature4  Feature5  Feature6  Feature7  \\\n",
       "4995       NaN  0.819440  0.415931        C       0.0       NaN  1.765590   \n",
       "4996       NaN  0.032140 -1.445420        C       1.0       NaN  0.806246   \n",
       "4997      92.0  0.263300  0.986722        C       NaN      78.0  1.326853   \n",
       "4998      91.0  0.640986 -1.199847        A       0.0      51.0  0.312256   \n",
       "4999       NaN  0.901570  1.836382      NaN       0.0       NaN  2.087461   \n",
       "\n",
       "      Feature8  Feature9  Feature10  Feature11 Feature12  Feature13  \\\n",
       "4995  1.929735 -1.951884        NaN          1         Z          1   \n",
       "4996  8.765315 -1.866815        NaN          1         Y          0   \n",
       "4997  4.489722  1.720671   6.877962          1         X          0   \n",
       "4998  2.773963 -3.320704   6.138322          2         X          0   \n",
       "4999  6.854886 -0.259228   6.068139          6         X          0   \n",
       "\n",
       "      Feature14 Feature15  Feature16  Feature17 Feature18 Feature19  \\\n",
       "4995  Category2   Option4        NaN  14.821501        No       Low   \n",
       "4996  Category3   Option4   6.368173   5.308922       Yes    Medium   \n",
       "4997  Category1   Option4   5.682022   9.508951       Yes    Medium   \n",
       "4998  Category1   Option3   4.574748   8.705127        No    Medium   \n",
       "4999  Category2   Option2  12.801075  14.686372       Yes      High   \n",
       "\n",
       "       Feature20  \n",
       "4995         NaN  \n",
       "4996         NaN  \n",
       "4997         NaN  \n",
       "4998  some other  \n",
       "4999  some other  "
      ]
     },
     "execution_count": 32,
     "metadata": {},
     "output_type": "execute_result"
    }
   ],
   "source": [
    "##tail function\n",
    "example.tail()"
   ]
  },
  {
   "cell_type": "markdown",
   "id": "11686321",
   "metadata": {},
   "source": [
    "# Q6. Which of the following is mutable in nature Series, DataFrame, Panel? "
   ]
  },
  {
   "cell_type": "markdown",
   "id": "11f0f278",
   "metadata": {},
   "source": [
    "Panel and Dataframe are MUTABLE whereas Series is IMMUTABLE in nature"
   ]
  },
  {
   "cell_type": "markdown",
   "id": "650d7926",
   "metadata": {},
   "source": [
    "# Q7. Create a DataFrame using multiple Series. Explain with an example."
   ]
  },
  {
   "cell_type": "code",
   "execution_count": 36,
   "id": "4e4887db",
   "metadata": {},
   "outputs": [],
   "source": [
    "frame = {'Number': df1, 'Number2': list_2}"
   ]
  },
  {
   "cell_type": "code",
   "execution_count": 37,
   "id": "f3147a83",
   "metadata": {},
   "outputs": [],
   "source": [
    "result = pd.DataFrame(frame)"
   ]
  },
  {
   "cell_type": "code",
   "execution_count": 38,
   "id": "97d9896d",
   "metadata": {},
   "outputs": [
    {
     "data": {
      "text/html": [
       "<div>\n",
       "<style scoped>\n",
       "    .dataframe tbody tr th:only-of-type {\n",
       "        vertical-align: middle;\n",
       "    }\n",
       "\n",
       "    .dataframe tbody tr th {\n",
       "        vertical-align: top;\n",
       "    }\n",
       "\n",
       "    .dataframe thead th {\n",
       "        text-align: right;\n",
       "    }\n",
       "</style>\n",
       "<table border=\"1\" class=\"dataframe\">\n",
       "  <thead>\n",
       "    <tr style=\"text-align: right;\">\n",
       "      <th></th>\n",
       "      <th>Number</th>\n",
       "      <th>Number2</th>\n",
       "    </tr>\n",
       "  </thead>\n",
       "  <tbody>\n",
       "    <tr>\n",
       "      <th>0</th>\n",
       "      <td>4.0</td>\n",
       "      <td>10</td>\n",
       "    </tr>\n",
       "    <tr>\n",
       "      <th>1</th>\n",
       "      <td>8.0</td>\n",
       "      <td>20</td>\n",
       "    </tr>\n",
       "    <tr>\n",
       "      <th>2</th>\n",
       "      <td>15.0</td>\n",
       "      <td>30</td>\n",
       "    </tr>\n",
       "    <tr>\n",
       "      <th>3</th>\n",
       "      <td>16.0</td>\n",
       "      <td>40</td>\n",
       "    </tr>\n",
       "    <tr>\n",
       "      <th>4</th>\n",
       "      <td>23.0</td>\n",
       "      <td>50</td>\n",
       "    </tr>\n",
       "    <tr>\n",
       "      <th>5</th>\n",
       "      <td>42.0</td>\n",
       "      <td>60</td>\n",
       "    </tr>\n",
       "    <tr>\n",
       "      <th>6</th>\n",
       "      <td>NaN</td>\n",
       "      <td>70</td>\n",
       "    </tr>\n",
       "    <tr>\n",
       "      <th>7</th>\n",
       "      <td>NaN</td>\n",
       "      <td>80</td>\n",
       "    </tr>\n",
       "    <tr>\n",
       "      <th>8</th>\n",
       "      <td>NaN</td>\n",
       "      <td>90</td>\n",
       "    </tr>\n",
       "    <tr>\n",
       "      <th>9</th>\n",
       "      <td>NaN</td>\n",
       "      <td>100</td>\n",
       "    </tr>\n",
       "  </tbody>\n",
       "</table>\n",
       "</div>"
      ],
      "text/plain": [
       "   Number  Number2\n",
       "0     4.0       10\n",
       "1     8.0       20\n",
       "2    15.0       30\n",
       "3    16.0       40\n",
       "4    23.0       50\n",
       "5    42.0       60\n",
       "6     NaN       70\n",
       "7     NaN       80\n",
       "8     NaN       90\n",
       "9     NaN      100"
      ]
     },
     "execution_count": 38,
     "metadata": {},
     "output_type": "execute_result"
    }
   ],
   "source": [
    "result"
   ]
  },
  {
   "cell_type": "code",
   "execution_count": null,
   "id": "4e572e8d",
   "metadata": {},
   "outputs": [],
   "source": []
  }
 ],
 "metadata": {
  "kernelspec": {
   "display_name": "Python 3 (ipykernel)",
   "language": "python",
   "name": "python3"
  },
  "language_info": {
   "codemirror_mode": {
    "name": "ipython",
    "version": 3
   },
   "file_extension": ".py",
   "mimetype": "text/x-python",
   "name": "python",
   "nbconvert_exporter": "python",
   "pygments_lexer": "ipython3",
   "version": "3.9.13"
  }
 },
 "nbformat": 4,
 "nbformat_minor": 5
}
