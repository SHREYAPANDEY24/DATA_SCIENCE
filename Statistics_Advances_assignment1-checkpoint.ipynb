{
 "cells": [
  {
   "cell_type": "code",
   "execution_count": 1,
   "id": "6beca0f4-2414-49e8-a098-8cc56699f0ff",
   "metadata": {},
   "outputs": [],
   "source": [
    "# Question 1: What is the Probability Density Function (PDF)?\n",
    "# Answer:\n",
    "# The Probability Density Function (PDF) describes the likelihood of a continuous random variable\n",
    "# taking on a specific value. It provides the density of probability at each point in the space of possible values.\n",
    "# The integral of the PDF over a range of values gives the probability of the random variable falling within that range.\n"
   ]
  },
  {
   "cell_type": "code",
   "execution_count": 2,
   "id": "04bfbf38-0416-4065-9564-59d1d7cb9fea",
   "metadata": {},
   "outputs": [],
   "source": [
    "# Question 2: What are the types of Probability Distribution?\n",
    "# Answer:\n",
    "# There are several types of probability distributions, including:\n",
    "# 1. Discrete distributions: Define probabilities for discrete outcomes.\n",
    "#    - Examples: Binomial, Poisson, Geometric\n",
    "# 2. Continuous distributions: Define probabilities for continuous outcomes.\n",
    "#    - Examples: Normal, Exponential, Uniform\n",
    "\n"
   ]
  },
  {
   "cell_type": "code",
   "execution_count": 3,
   "id": "d552cc93-8c1f-4b49-8663-e9544eccd76c",
   "metadata": {},
   "outputs": [
    {
     "data": {
      "text/plain": [
       "0.24197072451914337"
      ]
     },
     "execution_count": 3,
     "metadata": {},
     "output_type": "execute_result"
    }
   ],
   "source": [
    "# Question 3: Write a Python function to calculate the probability density function of a normal distribution\n",
    "# with given mean and standard deviation at a given point.\n",
    "# Answer:\n",
    "import numpy as np\n",
    "from scipy.stats import norm\n",
    "\n",
    "def normal_pdf(x, mean, std_dev):\n",
    "    return norm.pdf(x, loc=mean, scale=std_dev)\n",
    "\n",
    "# Example usage\n",
    "mean = 0\n",
    "std_dev = 1\n",
    "x = 1\n",
    "normal_pdf(x, mean, std_dev)\n",
    "\n"
   ]
  },
  {
   "cell_type": "code",
   "execution_count": 4,
   "id": "a15f5c8b-4b27-4159-8df3-173a2f7f9eea",
   "metadata": {},
   "outputs": [],
   "source": [
    "# Question 4: What are the properties of Binomial distribution? Give two examples of events where binomial distribution can be applied.\n",
    "# Answer:\n",
    "# Properties of the Binomial Distribution:\n",
    "# 1. It models the number of successes in a fixed number of independent Bernoulli trials.\n",
    "# 2. Each trial has two possible outcomes: success or failure.\n",
    "# 3. The probability of success is the same for each trial.\n",
    "# 4. The distribution is defined by two parameters: number of trials (n) and probability of success (p).\n",
    "\n",
    "# Examples:\n",
    "# 1. Flipping a coin 10 times and counting the number of heads.\n",
    "# 2. Conducting 15 surveys where each respondent either likes or dislikes a product.\n",
    "\n"
   ]
  },
  {
   "cell_type": "code",
   "execution_count": 5,
   "id": "f349fd31-89ba-45b1-9541-55e96b66d22a",
   "metadata": {},
   "outputs": [
    {
     "data": {
      "image/png": "[encoded data removed]",
      "text/plain": [
       "<Figure size 640x480 with 1 Axes>"
      ]
     },
     "metadata": {},
     "output_type": "display_data"
    }
   ],
   "source": [
    "# Question 5: Generate a random sample of size 1000 from a binomial distribution with probability of success 0.4\n",
    "# and plot a histogram of the results using matplotlib.\n",
    "# Answer:\n",
    "import matplotlib.pyplot as plt\n",
    "\n",
    "# Generate random sample\n",
    "n = 10  # Number of trials\n",
    "p = 0.4  # Probability of success\n",
    "sample_size = 1000\n",
    "binomial_sample = np.random.binomial(n, p, sample_size)\n",
    "\n",
    "# Plot histogram\n",
    "plt.hist(binomial_sample, bins=range(n+2), edgecolor='black', alpha=0.7)\n",
    "plt.title('Histogram of Binomial Distribution')\n",
    "plt.xlabel('Number of Successes')\n",
    "plt.ylabel('Frequency')\n",
    "plt.show()\n",
    "\n"
   ]
  },
  {
   "cell_type": "code",
   "execution_count": 6,
   "id": "2b5ca928-4c68-4728-afcb-d42c0e8e4f9a",
   "metadata": {},
   "outputs": [
    {
     "data": {
      "text/plain": [
       "0.44049328506521257"
      ]
     },
     "execution_count": 6,
     "metadata": {},
     "output_type": "execute_result"
    }
   ],
   "source": [
    "# Question 6: Write a Python function to calculate the cumulative distribution function (CDF) of a Poisson distribution\n",
    "# with given mean at a given point.\n",
    "# Answer:\n",
    "from scipy.stats import poisson\n",
    "\n",
    "def poisson_cdf(x, mean):\n",
    "    return poisson.cdf(x, mu=mean)\n",
    "\n",
    "# Example usage\n",
    "mean = 5\n",
    "x = 4\n",
    "poisson_cdf(x, mean)\n"
   ]
  },
  {
   "cell_type": "code",
   "execution_count": 7,
   "id": "371da2af-1d4c-4420-a44e-b5ce113e8535",
   "metadata": {},
   "outputs": [],
   "source": [
    "# Question 7: How is Binomial distribution different from Poisson distribution?\n",
    "# Answer:\n",
    "# - Binomial Distribution:\n",
    "#   - Used for a fixed number of trials (n) with two outcomes.\n",
    "#   - Probability of success (p) is constant for each trial.\n",
    "#   - The variance depends on n and p (Variance = n * p * (1 - p)).\n",
    "\n",
    "# - Poisson Distribution:\n",
    "#   - Used for modeling the number of events occurring in a fixed interval of time or space.\n",
    "#   - Suitable for rare events over a large number of trials.\n",
    "#   - The mean and variance are both equal to λ (the average rate of occurrence).\n",
    "\n",
    "# Binomial distribution is typically used for discrete trials with a fixed number of trials, while Poisson distribution is used for counting occurrences in a continuous space.\n",
    "\n"
   ]
  },
  {
   "cell_type": "code",
   "execution_count": 8,
   "id": "1b09da27-8744-4781-a203-e484ec3f4e06",
   "metadata": {},
   "outputs": [
    {
     "data": {
      "text/plain": [
       "(4.936, 4.927904000000001)"
      ]
     },
     "execution_count": 8,
     "metadata": {},
     "output_type": "execute_result"
    }
   ],
   "source": [
    "# Question 8: Generate a random sample of size 1000 from a Poisson distribution with mean 5\n",
    "# and calculate the sample mean and variance.\n",
    "# Answer:\n",
    "# Generate random sample\n",
    "mean = 5\n",
    "poisson_sample = np.random.poisson(mean, 1000)\n",
    "\n",
    "# Calculate mean and variance\n",
    "sample_mean = np.mean(poisson_sample)\n",
    "sample_variance = np.var(poisson_sample)\n",
    "\n",
    "sample_mean, sample_variance\n",
    "\n"
   ]
  },
  {
   "cell_type": "code",
   "execution_count": 9,
   "id": "347f139f-1056-458c-a0b6-a3a8038d07e8",
   "metadata": {},
   "outputs": [],
   "source": [
    "# Question 9: How are mean and variance related in Binomial distribution and Poisson distribution?\n",
    "# Answer:\n",
    "# - Binomial Distribution:\n",
    "#   - Mean = n * p\n",
    "#   - Variance = n * p * (1 - p)\n",
    "#   - Variance depends on the probability of success and the number of trials.\n",
    "\n",
    "# - Poisson Distribution:\n",
    "#   - Mean = λ\n",
    "#   - Variance = λ\n",
    "#   - Mean and variance are equal and are both determined by the rate of occurrence (λ).\n",
    "\n"
   ]
  },
  {
   "cell_type": "code",
   "execution_count": 10,
   "id": "b53fa3cf-f891-4775-9bac-196ecfd45727",
   "metadata": {},
   "outputs": [],
   "source": [
    "# Question 10: In normal distribution with respect to the mean position, where does the least frequent data appear?\n",
    "# Answer:\n",
    "# In a normal distribution, the least frequent data appears in the tails of the distribution. \n",
    "# As you move further from the mean (in both directions), the frequency of data points decreases. \n",
    "# The highest frequency of data is located around the mean, and the frequency decreases as you move away from the mean."
   ]
  },
  {
   "cell_type": "code",
   "execution_count": null,
   "id": "2707ccbd-9c11-49e1-bbd2-e7ea6785f2ca",
   "metadata": {},
   "outputs": [],
   "source": []
  }
 ],
 "metadata": {
  "kernelspec": {
   "display_name": "Python 3 (ipykernel)",
   "language": "python",
   "name": "python3"
  },
  "language_info": {
   "codemirror_mode": {
    "name": "ipython",
    "version": 3
   },
   "file_extension": ".py",
   "mimetype": "text/x-python",
   "name": "python",
   "nbconvert_exporter": "python",
   "pygments_lexer": "ipython3",
   "version": "3.11.5"
  }
 },
 "nbformat": 4,
 "nbformat_minor": 5
}
