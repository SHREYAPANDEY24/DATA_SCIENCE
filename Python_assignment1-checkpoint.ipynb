{
 "cells": [
  {
   "cell_type": "code",
   "execution_count": 2,
   "id": "4784bbcd-1d62-4b4f-af4e-88b627dad22b",
   "metadata": {},
   "outputs": [],
   "source": [
    "# Q1. Create one variable containing the following types of data: string, list, float, tuple\n",
    "\n",
    "variable = {\n",
    "    \"string\": \"Hello, World!\",\n",
    "    \"list\": [1, 2, 3, 4, 5],\n",
    "    \"float\": 3.14,\n",
    "    \"tuple\": (6, 7, 8)\n",
    "}"
   ]
  },
  {
   "cell_type": "code",
   "execution_count": 3,
   "id": "5219d5d7-4b7c-42e5-a4a2-1d7c94b91cf5",
   "metadata": {},
   "outputs": [
    {
     "name": "stdout",
     "output_type": "stream",
     "text": [
      "Data type of var1: <class 'str'>\n",
      "Data type of var2: <class 'str'>\n",
      "Data type of var3: <class 'list'>\n",
      "Data type of var4: <class 'float'>\n"
     ]
    }
   ],
   "source": [
    "# Q2. Determine the data types of the given variables\n",
    "\n",
    "var1 = ' '\n",
    "var2 = '[ DS , ML , Python]'\n",
    "var3 = [ 'DS', 'ML', 'Python' ]\n",
    "var4 = 1.\n",
    "\n",
    "print(f\"Data type of var1: {type(var1)}\")\n",
    "print(f\"Data type of var2: {type(var2)}\")\n",
    "print(f\"Data type of var3: {type(var3)}\")\n",
    "print(f\"Data type of var4: {type(var4)}\")"
   ]
  },
  {
   "cell_type": "code",
   "execution_count": 4,
   "id": "90a97fa5-ad86-4f01-8b0d-60d8516d8eeb",
   "metadata": {},
   "outputs": [
    {
     "name": "stdout",
     "output_type": "stream",
     "text": [
      "10 / 3 = 3.3333333333333335\n",
      "10 % 3 = 1\n",
      "10 // 3 = 3\n",
      "10 ** 3 = 1000\n"
     ]
    }
   ],
   "source": [
    "# Q3. Explain the use of the following operators using an example\n",
    "\n",
    "# (i) /\n",
    "result_div = 10 / 3\n",
    "print(f\"10 / 3 = {result_div}\")\n",
    "\n",
    "# (ii) %\n",
    "result_mod = 10 % 3\n",
    "print(f\"10 % 3 = {result_mod}\")\n",
    "\n",
    "# (iii) //\n",
    "result_floor_div = 10 // 3\n",
    "print(f\"10 // 3 = {result_floor_div}\")\n",
    "\n",
    "# (iv) **\n",
    "result_power = 10 ** 3\n",
    "print(f\"10 ** 3 = {result_power}\")"
   ]
  },
  {
   "cell_type": "code",
   "execution_count": 5,
   "id": "7ce03155-1217-4132-9122-cdbae468a1f0",
   "metadata": {},
   "outputs": [
    {
     "name": "stdout",
     "output_type": "stream",
     "text": [
      "Element: 1, Data type: <class 'int'>\n",
      "Element: 2.5, Data type: <class 'float'>\n",
      "Element: three, Data type: <class 'str'>\n",
      "Element: [4, 5], Data type: <class 'list'>\n",
      "Element: (6, 7), Data type: <class 'tuple'>\n",
      "Element: {8, 9}, Data type: <class 'set'>\n",
      "Element: {'key': 10}, Data type: <class 'dict'>\n",
      "Element: True, Data type: <class 'bool'>\n",
      "Element: None, Data type: <class 'NoneType'>\n",
      "Element: (11+12j), Data type: <class 'complex'>\n"
     ]
    }
   ],
   "source": [
    "# Q4. Create a list of length 10 containing multiple types of data. Print each element and its data type\n",
    "\n",
    "mixed_list = [1, 2.5, \"three\", [4, 5], (6, 7), {8, 9}, {'key': 10}, True, None, complex(11, 12)]\n",
    "for element in mixed_list:\n",
    "    print(f\"Element: {element}, Data type: {type(element)}\")"
   ]
  },
  {
   "cell_type": "code",
   "execution_count": 6,
   "id": "b0c27642-7ffb-4657-9c26-6aaa7fe64e7e",
   "metadata": {},
   "outputs": [
    {
     "name": "stdout",
     "output_type": "stream",
     "text": [
      "81 is divisible by 3, 4 times.\n"
     ]
    }
   ],
   "source": [
    "# Q5. Verify if number A is purely divisible by number B and if so, how many times it can be divisible\n",
    "\n",
    "A = 81\n",
    "B = 3\n",
    "count = 0\n",
    "\n",
    "while A % B == 0:\n",
    "    A //= B\n",
    "    count += 1\n",
    "\n",
    "print(f\"{A * (B ** count)} is divisible by {B}, {count} times.\")\n"
   ]
  },
  {
   "cell_type": "code",
   "execution_count": 7,
   "id": "888a34dc-c3aa-47ee-b150-a2ade22e608b",
   "metadata": {},
   "outputs": [
    {
     "name": "stdout",
     "output_type": "stream",
     "text": [
      "1 is not divisible by 3\n",
      "2 is not divisible by 3\n",
      "3 is divisible by 3\n",
      "4 is not divisible by 3\n",
      "5 is not divisible by 3\n",
      "6 is divisible by 3\n",
      "7 is not divisible by 3\n",
      "8 is not divisible by 3\n",
      "9 is divisible by 3\n",
      "10 is not divisible by 3\n",
      "11 is not divisible by 3\n",
      "12 is divisible by 3\n",
      "13 is not divisible by 3\n",
      "14 is not divisible by 3\n",
      "15 is divisible by 3\n",
      "16 is not divisible by 3\n",
      "17 is not divisible by 3\n",
      "18 is divisible by 3\n",
      "19 is not divisible by 3\n",
      "20 is not divisible by 3\n",
      "21 is divisible by 3\n",
      "22 is not divisible by 3\n",
      "23 is not divisible by 3\n",
      "24 is divisible by 3\n",
      "25 is not divisible by 3\n"
     ]
    }
   ],
   "source": [
    "# Q6. Create a list containing 25 int type data. Using for loop and if-else condition print if the element is divisible by 3 or not\n",
    "\n",
    "int_list = list(range(1, 26))\n",
    "for num in int_list:\n",
    "    if num % 3 == 0:\n",
    "        print(f\"{num} is divisible by 3\")\n",
    "    else:\n",
    "        print(f\"{num} is not divisible by 3\")"
   ]
  },
  {
   "cell_type": "code",
   "execution_count": 8,
   "id": "8b80374a-a11b-4eb3-935f-df25c332ff06",
   "metadata": {},
   "outputs": [
    {
     "name": "stdout",
     "output_type": "stream",
     "text": [
      "Original list: [1, 2, 3]\n",
      "Modified list: [1, 2, 3, 4]\n",
      "Original tuple: (1, 2, 3)\n",
      "Error: 'tuple' object does not support item assignment\n",
      "Original string: Hello\n",
      "Error: 'str' object does not support item assignment\n"
     ]
    }
   ],
   "source": [
    "# Q7. Explain mutable and immutable data types with examples\n",
    "\n",
    "# Mutable data types (examples: list, dictionary, set)\n",
    "mutable_list = [1, 2, 3]\n",
    "print(f\"Original list: {mutable_list}\")\n",
    "mutable_list.append(4)\n",
    "print(f\"Modified list: {mutable_list}\")\n",
    "\n",
    "# Immutable data types (examples: string, tuple, int)\n",
    "immutable_tuple = (1, 2, 3)\n",
    "print(f\"Original tuple: {immutable_tuple}\")\n",
    "try:\n",
    "    immutable_tuple[0] = 4\n",
    "except TypeError as e:\n",
    "    print(f\"Error: {e}\")\n",
    "\n",
    "immutable_string = \"Hello\"\n",
    "print(f\"Original string: {immutable_string}\")\n",
    "try:\n",
    "    immutable_string[0] = \"h\"\n",
    "except TypeError as e:\n",
    "    print(f\"Error: {e}\")"
   ]
  }
 ],
 "metadata": {
  "kernelspec": {
   "display_name": "Python 3 (ipykernel)",
   "language": "python",
   "name": "python3"
  },
  "language_info": {
   "codemirror_mode": {
    "name": "ipython",
    "version": 3
   },
   "file_extension": ".py",
   "mimetype": "text/x-python",
   "name": "python",
   "nbconvert_exporter": "python",
   "pygments_lexer": "ipython3",
   "version": "3.11.5"
  }
 },
 "nbformat": 4,
 "nbformat_minor": 5
}
