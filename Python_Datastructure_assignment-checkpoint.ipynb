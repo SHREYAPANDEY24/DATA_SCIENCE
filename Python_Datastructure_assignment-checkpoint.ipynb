{
 "cells": [
  {
   "cell_type": "code",
   "execution_count": 1,
   "id": "e53a33b9-4dd4-4827-99ef-3e8f07985af2",
   "metadata": {},
   "outputs": [
    {
     "name": "stdout",
     "output_type": "stream",
     "text": [
      "Hello, World!\n",
      "Hello, World!\n"
     ]
    },
    {
     "data": {
      "text/plain": [
       "'\\nAlternatively, you can use triple quotes for documentation strings (docstrings) which also serve as multi-line comments.\\n'"
      ]
     },
     "execution_count": 1,
     "metadata": {},
     "output_type": "execute_result"
    }
   ],
   "source": [
    "# Q1. How do you comment code in Python? What are the different types of comments?\n",
    "\n",
    "# Single-line comment:\n",
    "# This is a single-line comment\n",
    "print(\"Hello, World!\")  # This is also a single-line comment\n",
    "\n",
    "# Multi-line comment:\n",
    "\"\"\"\n",
    "This is a multi-line comment.\n",
    "It spans multiple lines.\n",
    "\"\"\"\n",
    "print(\"Hello, World!\")\n",
    "\n",
    "\"\"\"\n",
    "Alternatively, you can use triple quotes for documentation strings (docstrings) which also serve as multi-line comments.\n",
    "\"\"\""
   ]
  },
  {
   "cell_type": "code",
   "execution_count": 2,
   "id": "7822cb93-52cc-4056-b9be-ad354e8be7c8",
   "metadata": {},
   "outputs": [
    {
     "name": "stdout",
     "output_type": "stream",
     "text": [
      "Hello, World!\n",
      "10\n",
      "20.5\n",
      "[1, 2, 3, 4, 5]\n"
     ]
    }
   ],
   "source": [
    "# Q2. What are variables in Python? How do you declare and assign values to variables?\n",
    "\n",
    "# A variable is used to store data values.\n",
    "# Declaring and assigning a string\n",
    "my_string = \"Hello, World!\"\n",
    "print(my_string)\n",
    "\n",
    "# Declaring and assigning an integer\n",
    "my_int = 10\n",
    "print(my_int)\n",
    "\n",
    "# Declaring and assigning a float\n",
    "my_float = 20.5\n",
    "print(my_float)\n",
    "\n",
    "# Declaring and assigning a list\n",
    "my_list = [1, 2, 3, 4, 5]\n",
    "print(my_list)"
   ]
  },
  {
   "cell_type": "code",
   "execution_count": 3,
   "id": "367a045a-8b2e-44eb-b56d-a03332d60909",
   "metadata": {},
   "outputs": [
    {
     "name": "stdout",
     "output_type": "stream",
     "text": [
      "10.0\n",
      "10\n",
      "10\n",
      "10\n"
     ]
    }
   ],
   "source": [
    "# Q3. How do you convert one data type to another in Python?\n",
    "\n",
    "# Converting an integer to a float\n",
    "int_var = 10\n",
    "float_var = float(int_var)\n",
    "print(float_var)\n",
    "\n",
    "# Converting a float to an integer\n",
    "float_var = 10.5\n",
    "int_var = int(float_var)\n",
    "print(int_var)\n",
    "\n",
    "# Converting an integer to a string\n",
    "int_var = 10\n",
    "str_var = str(int_var)\n",
    "print(str_var)\n",
    "\n",
    "# Converting a string to an integer\n",
    "str_var = \"10\"\n",
    "int_var = int(str_var)\n",
    "print(int_var)\n"
   ]
  },
  {
   "cell_type": "code",
   "execution_count": 4,
   "id": "d1a8744f-f581-4e52-bd6d-946945837e4a",
   "metadata": {},
   "outputs": [
    {
     "data": {
      "text/plain": [
       "'\\n# script.py\\nprint(\"Hello from the command line!\")\\n'"
      ]
     },
     "execution_count": 4,
     "metadata": {},
     "output_type": "execute_result"
    }
   ],
   "source": [
    "# Q4. How do you write and execute a Python script from the command line?\n",
    "\n",
    "# You write a Python script in a text file with a .py extension.\n",
    "# For example, create a file named script.py with the following content:\n",
    "\n",
    "\"\"\"\n",
    "# script.py\n",
    "print(\"Hello from the command line!\")\n",
    "\"\"\"\n",
    "\n",
    "# To execute the script from the command line, you would use:\n",
    "# python script.py\n",
    "\n",
    "# This code won't be executed in Jupyter Notebook, but the above steps illustrate the process."
   ]
  },
  {
   "cell_type": "code",
   "execution_count": 5,
   "id": "93726662-67e3-4cae-a987-b4d734262889",
   "metadata": {},
   "outputs": [
    {
     "name": "stdout",
     "output_type": "stream",
     "text": [
      "[2, 3]\n"
     ]
    }
   ],
   "source": [
    "# Q5. Given a list my_list = [1, 2, 3, 4, 5], write the code to slice the list and obtain the sub-list [2, 3].\n",
    "\n",
    "my_list = [1, 2, 3, 4, 5]\n",
    "sub_list = my_list[1:3]\n",
    "print(sub_list)  # Output: [2, 3]"
   ]
  },
  {
   "cell_type": "code",
   "execution_count": null,
   "id": "8e371023-c172-46f3-a3c2-df190b21bb32",
   "metadata": {},
   "outputs": [],
   "source": []
  }
 ],
 "metadata": {
  "kernelspec": {
   "display_name": "Python 3 (ipykernel)",
   "language": "python",
   "name": "python3"
  },
  "language_info": {
   "codemirror_mode": {
    "name": "ipython",
    "version": 3
   },
   "file_extension": ".py",
   "mimetype": "text/x-python",
   "name": "python",
   "nbconvert_exporter": "python",
   "pygments_lexer": "ipython3",
   "version": "3.11.5"
  }
 },
 "nbformat": 4,
 "nbformat_minor": 5
}
