{
 "cells": [
  {
   "cell_type": "code",
   "execution_count": 1,
   "id": "16c4b96f-cc11-440a-ae72-de010a0fe0d2",
   "metadata": {},
   "outputs": [
    {
     "data": {
      "text/plain": [
       "('Bark', 'Meow')"
      ]
     },
     "execution_count": 1,
     "metadata": {},
     "output_type": "execute_result"
    }
   ],
   "source": [
    "# Q1. What is Abstraction in OOps? Explain with an example.\n",
    "\n",
    "# Abstraction is an OOP concept that hides the complex implementation details and shows only the essential features of the object. \n",
    "# This is done to reduce programming complexity and effort. It focuses on what an object does instead of how it does it.\n",
    "\n",
    "class Animal:\n",
    "    def sound(self):\n",
    "        raise NotImplementedError(\"Subclass must implement abstract method\")\n",
    "\n",
    "class Dog(Animal):\n",
    "    def sound(self):\n",
    "        return \"Bark\"\n",
    "\n",
    "class Cat(Animal):\n",
    "    def sound(self):\n",
    "        return \"Meow\"\n",
    "\n",
    "# Instances of Dog and Cat\n",
    "dog = Dog()\n",
    "cat = Cat()\n",
    "\n",
    "dog.sound(), cat.sound()\n",
    "# Output: ('Bark', 'Meow')"
   ]
  },
  {
   "cell_type": "code",
   "execution_count": 2,
   "id": "826f168e-d5c3-4773-8a14-eafff7c4cd98",
   "metadata": {},
   "outputs": [
    {
     "data": {
      "text/plain": [
       "(\"'Car' object has no attribute '__model'\",\n",
       " \"'Car' object has no attribute '__engine'\")"
      ]
     },
     "execution_count": 2,
     "metadata": {},
     "output_type": "execute_result"
    }
   ],
   "source": [
    "# Q2. Differentiate between Abstraction and Encapsulation. Explain with an example.\n",
    "\n",
    "# Abstraction is about hiding the implementation details and showing only the functionality. \n",
    "# Encapsulation is about bundling the data and methods that operate on the data within one unit, such as a class, and restricting access to some of the object's components.\n",
    "\n",
    "class Car:\n",
    "    def __init__(self, make, model):\n",
    "        self.make = make          # Public attribute\n",
    "        self.__model = model      # Private attribute\n",
    "\n",
    "    def description(self):        # Public method\n",
    "        return f\"This car is a {self.make} {self.__model}\"\n",
    "\n",
    "    def __engine(self):           # Private method\n",
    "        return \"Engine details\"\n",
    "\n",
    "# Creating an instance of Car\n",
    "car = Car(\"Toyota\", \"Corolla\")\n",
    "\n",
    "# Accessing public method\n",
    "car.description()\n",
    "# Output: 'This car is a Toyota Corolla'\n",
    "\n",
    "# Accessing private attribute and method (will raise an error)\n",
    "try:\n",
    "    car.__model\n",
    "except AttributeError as e:\n",
    "    private_attr_error = str(e)\n",
    "\n",
    "try:\n",
    "    car.__engine()\n",
    "except AttributeError as e:\n",
    "    private_method_error = str(e)\n",
    "\n",
    "(private_attr_error, private_method_error)\n",
    "# Output: (\"'Car' object has no attribute '__model'\", \"'Car' object has no attribute '__engine'\")\n",
    "\n",
    "# Q3. What is abc module in python? Why is it used?"
   ]
  },
  {
   "cell_type": "code",
   "execution_count": 3,
   "id": "7fb2a4c5-5e9a-48ec-9499-d2b894ee8321",
   "metadata": {},
   "outputs": [],
   "source": [
    "# Q3. What is abc module in python? Why is it used?\n",
    "\n",
    "# The 'abc' module in Python provides the infrastructure for defining abstract base classes (ABCs). \n",
    "# An ABC can be used as a blueprint for other classes. It allows you to define methods that must be created within any child classes built from the abstract base class.\n",
    "\n",
    "from abc import ABC, abstractmethod\n",
    "\n",
    "class Shape(ABC):\n",
    "    @abstractmethod\n",
    "    def area(self):\n",
    "        pass\n",
    "\n",
    "class Rectangle(Shape):\n",
    "    def __init__(self, width, height):\n",
    "        self.width = width\n",
    "        self.height = height\n",
    "\n",
    "    def area(self):\n",
    "        return self.width * self.height"
   ]
  },
  {
   "cell_type": "code",
   "execution_count": 4,
   "id": "99d2352a-c6bb-48ab-8ac8-f05e42391bb3",
   "metadata": {},
   "outputs": [
    {
     "data": {
      "text/plain": [
       "'Displaying information'"
      ]
     },
     "execution_count": 4,
     "metadata": {},
     "output_type": "execute_result"
    }
   ],
   "source": [
    "# Q4. How can we achieve data abstraction?\n",
    "\n",
    "# Data abstraction can be achieved in Python by using abstract classes and interfaces, where you can define abstract methods that must be implemented in derived classes.\n",
    "# This allows you to define a common interface for a group of related classes.\n",
    "\n",
    "class Data(ABC):\n",
    "    @abstractmethod\n",
    "    def display(self):\n",
    "        pass\n",
    "\n",
    "class Info(Data):\n",
    "    def display(self):\n",
    "        return \"Displaying information\"\n",
    "\n",
    "info = Info()\n",
    "info.display()\n",
    "# Output: 'Displaying information'"
   ]
  },
  {
   "cell_type": "code",
   "execution_count": 5,
   "id": "384ffde6-1ba3-44ca-b646-7d833cd148e4",
   "metadata": {},
   "outputs": [
    {
     "data": {
      "text/plain": [
       "\"Can't instantiate abstract class Shape with abstract method area\""
      ]
     },
     "execution_count": 5,
     "metadata": {},
     "output_type": "execute_result"
    }
   ],
   "source": [
    "# Q5. Can we create an instance of an abstract class? Explain your answer.\n",
    "\n",
    "# No, we cannot create an instance of an abstract class. Abstract classes are meant to be inherited by subclasses that implement the abstract methods defined in the abstract class.\n",
    "\n",
    "try:\n",
    "    shape = Shape()\n",
    "except TypeError as e:\n",
    "    abstract_instance_error = str(e)\n",
    "\n",
    "abstract_instance_error\n",
    "# Output: \"Can't instantiate abstract class Shape with abstract method area\""
   ]
  },
  {
   "cell_type": "code",
   "execution_count": null,
   "id": "65c94be1-6782-4b8f-a21b-5bc2b930523e",
   "metadata": {},
   "outputs": [],
   "source": []
  }
 ],
 "metadata": {
  "kernelspec": {
   "display_name": "Python 3 (ipykernel)",
   "language": "python",
   "name": "python3"
  },
  "language_info": {
   "codemirror_mode": {
    "name": "ipython",
    "version": 3
   },
   "file_extension": ".py",
   "mimetype": "text/x-python",
   "name": "python",
   "nbconvert_exporter": "python",
   "pygments_lexer": "ipython3",
   "version": "3.11.5"
  }
 },
 "nbformat": 4,
 "nbformat_minor": 5
}
