{
 "cells": [
  {
   "cell_type": "markdown",
   "id": "dc1fc86f",
   "metadata": {},
   "source": [
    "# Q1-Explain Class and Object with respect to Object-Oriented Programming. Give a suitable example."
   ]
  },
  {
   "cell_type": "markdown",
   "id": "608ce525",
   "metadata": {},
   "source": [
    "# ANSWER"
   ]
  },
  {
   "cell_type": "markdown",
   "id": "a065223d",
   "metadata": {},
   "source": [
    "CLASS in oops is refered to as a blueprint which is used to create objects in them. whereas OBJECT is an instance of the class. \n",
    "A class can have various objects associated with it which shows various behaviours and properties.\n"
   ]
  },
  {
   "cell_type": "code",
   "execution_count": 5,
   "id": "c20618c2",
   "metadata": {},
   "outputs": [
    {
     "name": "stdout",
     "output_type": "stream",
     "text": [
      "shreya\n"
     ]
    }
   ],
   "source": [
    "#EXAMPLE\n",
    "\n",
    "class student:\n",
    "    name = 'shreya'\n",
    "\n",
    "obj = student()\n",
    "print(obj.name)"
   ]
  },
  {
   "cell_type": "markdown",
   "id": "94bfdfd7",
   "metadata": {},
   "source": [
    "# Q2. Name the four pillars of OOPs."
   ]
  },
  {
   "cell_type": "markdown",
   "id": "e106a541",
   "metadata": {},
   "source": [
    "# ANSWER"
   ]
  },
  {
   "cell_type": "markdown",
   "id": "13145652",
   "metadata": {},
   "source": [
    "OOPS stands for Object Oriented Programming.\n",
    "The four pillars of OOPS are;\n",
    "1]Inheritence\n",
    "2]Polymorphism\n",
    "3]Encapsulation\n",
    "4]Abstraction"
   ]
  },
  {
   "cell_type": "markdown",
   "id": "8bb89c4c",
   "metadata": {},
   "source": [
    "# Q3. Explain why the __init__() function is used. Give a suitable example."
   ]
  },
  {
   "cell_type": "markdown",
   "id": "3c2735c4",
   "metadata": {},
   "source": [
    "# ANSWER"
   ]
  },
  {
   "cell_type": "markdown",
   "id": "9eab496c",
   "metadata": {},
   "source": [
    "the init() function is used to assign the values to the objects in the class. It is \n",
    "written as __init__(self, \"arguments\"). The values are assigned to the objects in the class."
   ]
  },
  {
   "cell_type": "code",
   "execution_count": 6,
   "id": "3bbbfa1c",
   "metadata": {},
   "outputs": [],
   "source": [
    "#EXAMPLE\n",
    "\n",
    "class Student:\n",
    "  def __init__(self, name, rollno):\n",
    "    self.name = name\n",
    "    self.rollno = rollno\n",
    "\n",
    "Student1 = Student(\"shreya\", 110)\n"
   ]
  },
  {
   "cell_type": "markdown",
   "id": "43c73bf9",
   "metadata": {},
   "source": [
    "# Q4. Why self is used in OOPs?"
   ]
  },
  {
   "cell_type": "markdown",
   "id": "bea6dd9a",
   "metadata": {},
   "source": [
    "# ANSWER"
   ]
  },
  {
   "cell_type": "markdown",
   "id": "eb7c49b9",
   "metadata": {},
   "source": [
    "the word self act as the reference or a pointer which tells the class that the object belongs to that class. self \n",
    "is not a reserved keyword and any other word apart from self can be used. \n",
    "self is generally used in the __init__() function"
   ]
  },
  {
   "cell_type": "markdown",
   "id": "4c3ec91a",
   "metadata": {},
   "source": [
    "# Q5. What is inheritance? Give an example for each type of inheritance."
   ]
  },
  {
   "cell_type": "markdown",
   "id": "8a4b980b",
   "metadata": {},
   "source": [
    "# ANSWER"
   ]
  },
  {
   "cell_type": "markdown",
   "id": "25929cc5",
   "metadata": {},
   "source": [
    "--Inheritence is one of the pillars of OOPs.\n",
    "--it is a property in which a class inherits some behaviours and properties from \n",
    "another class.\n",
    "--there are various types of inheritence like\n",
    "-simple inheritence\n",
    "-multilabel inheritence\n",
    "-multi inheritence"
   ]
  }
 ],
 "metadata": {
  "kernelspec": {
   "display_name": "Python 3 (ipykernel)",
   "language": "python",
   "name": "python3"
  },
  "language_info": {
   "codemirror_mode": {
    "name": "ipython",
    "version": 3
   },
   "file_extension": ".py",
   "mimetype": "text/x-python",
   "name": "python",
   "nbconvert_exporter": "python",
   "pygments_lexer": "ipython3",
   "version": "3.9.13"
  }
 },
 "nbformat": 4,
 "nbformat_minor": 5
}
