{
 "cells": [
  {
   "cell_type": "code",
   "execution_count": 1,
   "id": "79cbb9d1-c956-4da7-80f1-9d7b5479b65c",
   "metadata": {},
   "outputs": [],
   "source": [
    "# Q1. What is data encoding? How is it useful in data science?\n",
    "\n",
    "# Answer:\n",
    "# Data encoding is the process of converting categorical data into a numerical format that machine learning algorithms can understand and process.\n",
    "# It is useful in data science because many algorithms require numerical input, and encoding helps transform categorical variables into a suitable form.\n",
    "# Common encoding techniques include one-hot encoding, label encoding, and nominal encoding.\n",
    "# Data encoding helps preserve the categorical information while making it usable for predictive modeling.\n"
   ]
  },
  {
   "cell_type": "code",
   "execution_count": 2,
   "id": "ec777568-89b8-4747-8b12-b701253fbe97",
   "metadata": {},
   "outputs": [],
   "source": [
    "# Q2. What is nominal encoding? Provide an example of how you would use it in a real-world scenario.\n",
    "\n",
    "# Answer:\n",
    "# Nominal encoding is a technique used to convert categorical data into numerical values without implying any ordinal relationship between the categories.\n",
    "# Each category is assigned a unique integer value, often through label encoding or similar methods.\n",
    "# Example: In a dataset of customer reviews with a \"Sentiment\" column having categories like \"Positive,\" \"Neutral,\" and \"Negative,\" \n",
    "# nominal encoding could assign the values 1, 2, and 3 to these categories, respectively.\n",
    "# This encoding is useful when the categorical variable does not have an inherent order, such as in the case of product categories, colors, or names.\n"
   ]
  },
  {
   "cell_type": "code",
   "execution_count": 3,
   "id": "fe80ad95-912b-4785-b855-43240925eb92",
   "metadata": {},
   "outputs": [],
   "source": [
    "# Q3. In what situations is nominal encoding preferred over one-hot encoding? Provide a practical example.\n",
    "\n",
    "# Answer:\n",
    "# Nominal encoding is preferred over one-hot encoding when the categorical variable has a large number of unique values or when the dataset is sparse.\n",
    "# It is also preferred when the model being used can handle categorical variables as numeric values without confusing the encoded values as ordinal.\n",
    "# Practical Example: If you have a dataset with a \"City\" column containing 1000 unique city names, using one-hot encoding would create 1000 new columns,\n",
    "# which would significantly increase the dimensionality of the dataset. Instead, nominal encoding would assign each city a unique integer, reducing the complexity.\n"
   ]
  },
  {
   "cell_type": "code",
   "execution_count": 4,
   "id": "8fcac37b-5476-4ab6-b216-ce645461fe01",
   "metadata": {},
   "outputs": [],
   "source": [
    "# Q4. Suppose you have a dataset containing categorical data with 5 unique values.\n",
    "# Which encoding technique would you use to transform this data into a format suitable for machine learning algorithms?\n",
    "# Explain why you made this choice.\n",
    "\n",
    "# Answer:\n",
    "# If the categorical data has 5 unique values, I would use one-hot encoding if the number of categories is small and the dataset is not too large.\n",
    "# One-hot encoding creates binary columns for each category, allowing the model to treat each category independently without imposing any ordinal relationship.\n",
    "# However, if the dataset is large or if the categories have no meaningful order and can be treated as numeric values, I might use nominal encoding to reduce the dimensionality.\n",
    "# The choice depends on the specific context, but one-hot encoding is often preferred for small, non-ordinal categorical variables because it avoids the potential issues of assigning arbitrary numeric values.\n"
   ]
  },
  {
   "cell_type": "code",
   "execution_count": 5,
   "id": "776fe77f-f320-487d-922b-08a2abd34dde",
   "metadata": {},
   "outputs": [],
   "source": [
    "# Q5. In a machine learning project, you have a dataset with 1000 rows and 5 columns.\n",
    "# Two of the columns are categorical, and the remaining three columns are numerical.\n",
    "# If you were to use nominal encoding to transform the categorical data, how many new columns would be created? Show your calculations.\n",
    "\n",
    "# Answer:\n",
    "# Nominal encoding would replace each categorical column with a single numeric column representing the encoded categories.\n",
    "# Therefore, for the two categorical columns, nominal encoding would create 2 new columns (one for each categorical column).\n",
    "# The numerical columns remain unchanged.\n",
    "# So, the total number of columns after encoding would be:\n",
    "# Original numerical columns: 3\n",
    "# Encoded categorical columns: 2 (one per categorical column)\n",
    "# Total columns after encoding: 3 + 2 = 5\n",
    "# Hence, the total number of columns remains 5, as nominal encoding does not increase the number of columns; it simply replaces categorical values with numeric codes."
   ]
  },
  {
   "cell_type": "code",
   "execution_count": null,
   "id": "22c23c77-d3b7-4431-b688-42cd507a673f",
   "metadata": {},
   "outputs": [],
   "source": []
  }
 ],
 "metadata": {
  "kernelspec": {
   "display_name": "Python 3 (ipykernel)",
   "language": "python",
   "name": "python3"
  },
  "language_info": {
   "codemirror_mode": {
    "name": "ipython",
    "version": 3
   },
   "file_extension": ".py",
   "mimetype": "text/x-python",
   "name": "python",
   "nbconvert_exporter": "python",
   "pygments_lexer": "ipython3",
   "version": "3.11.5"
  }
 },
 "nbformat": 4,
 "nbformat_minor": 5
}
