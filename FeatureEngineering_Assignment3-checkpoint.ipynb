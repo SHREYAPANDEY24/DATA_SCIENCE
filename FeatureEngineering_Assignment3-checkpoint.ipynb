{
 "cells": [
  {
   "cell_type": "code",
   "execution_count": 1,
   "id": "0bb18e7b-7a86-4326-b1f4-3d602c28ba89",
   "metadata": {},
   "outputs": [
    {
     "data": {
      "text/plain": [
       "1.0"
      ]
     },
     "execution_count": 1,
     "metadata": {},
     "output_type": "execute_result"
    }
   ],
   "source": [
    "# Q1. Pearson correlation coefficient is a measure of the linear relationship between two variables.\n",
    "# Suppose you have collected data on the amount of time students spend studying for an exam and their final exam scores.\n",
    "# Calculate the Pearson correlation coefficient between these two variables and interpret the result.\n",
    "\n",
    "# Answer:\n",
    "# The Pearson correlation coefficient (r) measures the strength and direction of the linear relationship between two continuous variables.\n",
    "# It ranges from -1 to 1, where:\n",
    "# - r = 1 indicates a perfect positive linear relationship,\n",
    "# - r = -1 indicates a perfect negative linear relationship,\n",
    "# - r = 0 indicates no linear relationship.\n",
    "# To calculate the Pearson correlation coefficient between study time and exam scores, use the formula:\n",
    "\n",
    "import numpy as np\n",
    "\n",
    "# Example data: hours spent studying and exam scores\n",
    "study_time = np.array([2, 3, 4, 5, 6, 7, 8, 9, 10])\n",
    "exam_scores = np.array([50, 55, 60, 65, 70, 75, 80, 85, 90])\n",
    "\n",
    "# Calculate Pearson correlation coefficient\n",
    "pearson_corr = np.corrcoef(study_time, exam_scores)[0, 1]\n",
    "pearson_corr\n",
    "\n",
    "# Interpretation:\n",
    "# A positive Pearson correlation coefficient would indicate that as study time increases, exam scores also increase.\n",
    "# A high positive value close to 1 would suggest a strong linear relationship, while a value close to 0 would suggest a weak or no linear relationship.\n"
   ]
  },
  {
   "cell_type": "code",
   "execution_count": 2,
   "id": "e71fb748-fd1a-445e-b4de-4e6633e82a57",
   "metadata": {},
   "outputs": [
    {
     "data": {
      "text/plain": [
       "0.9957173250742358"
      ]
     },
     "execution_count": 2,
     "metadata": {},
     "output_type": "execute_result"
    }
   ],
   "source": [
    "# Q2. Spearman's rank correlation is a measure of the monotonic relationship between two variables.\n",
    "# Suppose you have collected data on the amount of sleep individuals get each night and their overall job satisfaction level on a scale of 1 to 10.\n",
    "# Calculate the Spearman's rank correlation between these two variables and interpret the result.\n",
    "\n",
    "# Answer:\n",
    "# Spearman's rank correlation coefficient (ρ) measures the strength and direction of a monotonic relationship between two ranked variables.\n",
    "# It is a non-parametric measure, meaning it does not assume a specific distribution of the data.\n",
    "\n",
    "from scipy.stats import spearmanr\n",
    "\n",
    "# Example data: hours of sleep and job satisfaction scores\n",
    "sleep_hours = np.array([6, 7, 5, 8, 7, 6, 9, 5, 8])\n",
    "job_satisfaction = np.array([5, 6, 4, 8, 7, 5, 9, 4, 8])\n",
    "\n",
    "# Calculate Spearman's rank correlation\n",
    "spearman_corr, _ = spearmanr(sleep_hours, job_satisfaction)\n",
    "spearman_corr\n",
    "\n",
    "# Interpretation:\n",
    "# A positive Spearman correlation coefficient would indicate that as sleep hours increase, job satisfaction also increases in a monotonic manner.\n",
    "# Spearman's rank correlation is particularly useful when the relationship is not strictly linear, but still follows a consistent order.\n"
   ]
  },
  {
   "cell_type": "code",
   "execution_count": 3,
   "id": "95923980-ca05-4f9a-942d-28ff51e06376",
   "metadata": {},
   "outputs": [
    {
     "data": {
      "text/plain": [
       "(0.11007178534016059, 0.14237695078031212)"
      ]
     },
     "execution_count": 3,
     "metadata": {},
     "output_type": "execute_result"
    }
   ],
   "source": [
    "# Q3. Suppose you are conducting a study to examine the relationship between the number of hours of exercise per week and body mass index (BMI) in a sample of adults.\n",
    "# You collected data on both variables for 50 participants. Calculate the Pearson correlation coefficient and the Spearman's rank correlation between these two variables and compare the results.\n",
    "\n",
    "# Answer:\n",
    "# We will calculate both Pearson and Spearman correlation coefficients to compare the results.\n",
    "\n",
    "# Example data (simulated): hours of exercise and BMI for 50 participants\n",
    "np.random.seed(42)\n",
    "exercise_hours = np.random.normal(5, 2, 50)  # Normally distributed data for exercise hours\n",
    "BMI = np.random.normal(25, 3, 50)            # Normally distributed data for BMI\n",
    "\n",
    "# Calculate Pearson correlation\n",
    "pearson_corr_exercise_BMI = np.corrcoef(exercise_hours, BMI)[0, 1]\n",
    "\n",
    "# Calculate Spearman's rank correlation\n",
    "spearman_corr_exercise_BMI, _ = spearmanr(exercise_hours, BMI)\n",
    "\n",
    "pearson_corr_exercise_BMI, spearman_corr_exercise_BMI\n",
    "\n",
    "# Interpretation:\n",
    "# - Pearson correlation assesses the linear relationship between exercise hours and BMI.\n",
    "# - Spearman's rank correlation assesses the monotonic relationship between the same variables.\n",
    "# Comparing the two can help understand if the relationship is purely linear or if it is better described by a monotonic trend.\n"
   ]
  },
  {
   "cell_type": "code",
   "execution_count": 4,
   "id": "f05e9c41-7722-4c3f-9fc0-0574c6e5c8b7",
   "metadata": {},
   "outputs": [
    {
     "data": {
      "text/plain": [
       "0.1100717853401605"
      ]
     },
     "execution_count": 4,
     "metadata": {},
     "output_type": "execute_result"
    }
   ],
   "source": [
    "# Q4. A researcher is interested in examining the relationship between the number of hours individuals spend watching television per day and their level of physical activity.\n",
    "# The researcher collected data on both variables from a sample of 50 participants.\n",
    "# Calculate the Pearson correlation coefficient between these two variables.\n",
    "\n",
    "# Answer:\n",
    "# The Pearson correlation coefficient will be calculated to understand the linear relationship between television watching hours and physical activity levels.\n",
    "\n",
    "# Example data (simulated): hours of television and physical activity level for 50 participants\n",
    "np.random.seed(42)\n",
    "tv_hours = np.random.normal(3, 1, 50)   # Normally distributed data for TV hours\n",
    "physical_activity = np.random.normal(7, 2, 50)  # Normally distributed data for physical activity\n",
    "\n",
    "# Calculate Pearson correlation\n",
    "pearson_corr_tv_activity = np.corrcoef(tv_hours, physical_activity)[0, 1]\n",
    "pearson_corr_tv_activity\n",
    "\n",
    "# Interpretation:\n",
    "# A negative Pearson correlation coefficient would suggest that as the number of hours watching TV increases, physical activity decreases, which is expected in such scenarios.\n",
    "# The magnitude of the correlation will indicate the strength of this inverse relationship."
   ]
  },
  {
   "cell_type": "code",
   "execution_count": null,
   "id": "3201dca9-ba17-466c-ba5e-91c19b420baf",
   "metadata": {},
   "outputs": [],
   "source": []
  }
 ],
 "metadata": {
  "kernelspec": {
   "display_name": "Python 3 (ipykernel)",
   "language": "python",
   "name": "python3"
  },
  "language_info": {
   "codemirror_mode": {
    "name": "ipython",
    "version": 3
   },
   "file_extension": ".py",
   "mimetype": "text/x-python",
   "name": "python",
   "nbconvert_exporter": "python",
   "pygments_lexer": "ipython3",
   "version": "3.11.5"
  }
 },
 "nbformat": 4,
 "nbformat_minor": 5
}
