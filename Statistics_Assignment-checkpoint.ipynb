{
 "cells": [
  {
   "cell_type": "code",
   "execution_count": 1,
   "id": "4ac96737-0032-486c-a40d-cdf4a8e01ea2",
   "metadata": {},
   "outputs": [],
   "source": [
    "# Question 1: What are the three measures of central tendency?\n",
    "# Answer:\n",
    "# The three measures of central tendency are:\n",
    "# 1. Mean: The average value of a dataset.\n",
    "# 2. Median: The middle value when the data is sorted in ascending order.\n",
    "# 3. Mode: The value that appears most frequently in the dataset.\n"
   ]
  },
  {
   "cell_type": "code",
   "execution_count": 2,
   "id": "decb2fb9-5804-4b41-82a5-e075a1f3c4a2",
   "metadata": {},
   "outputs": [],
   "source": [
    "# Question 2: What is the difference between the mean, median, and mode? How are they used to measure the central tendency of a dataset?\n",
    "# Answer:\n",
    "# - Mean: Calculated by summing all values and dividing by the number of values. It is sensitive to extreme values (outliers).\n",
    "# - Median: The middle value of a sorted dataset. It is less affected by outliers and skewed data.\n",
    "# - Mode: The most frequent value in a dataset. It is useful for categorical data and can be more than one value if there are multiple modes.\n",
    "\n"
   ]
  },
  {
   "cell_type": "code",
   "execution_count": 6,
   "id": "c77f1d1f-4f23-4e73-9977-b6b1a3b5860d",
   "metadata": {},
   "outputs": [
    {
     "data": {
      "text/plain": [
       "(177.01875, 177.0, 177.0)"
      ]
     },
     "execution_count": 6,
     "metadata": {},
     "output_type": "execute_result"
    }
   ],
   "source": [
    "# Question 3: Measure the three measures of central tendency for the given height data:\n",
    "# [178,177,176,177,178.2,178,175,179,180,175,178.9,176.2,177,172.5,178,176.5]\n",
    "# Answer:\n",
    "import numpy as np\n",
    "from scipy import stats\n",
    "\n",
    "# Given data\n",
    "heights = [178,177,176,177,178.2,178,175,179,180,175,178.9,176.2,177,172.5,178,176.5]\n",
    "\n",
    "# Mean\n",
    "mean_height = np.mean(heights)\n",
    "\n",
    "# Median\n",
    "median_height = np.median(heights)\n",
    "\n",
    "# Mode\n",
    "mode_height = stats.mode(heights)\n",
    "\n",
    "mean_height, median_height, mode_height.mode\n",
    "\n"
   ]
  },
  {
   "cell_type": "code",
   "execution_count": 4,
   "id": "827d4276-27a1-4b47-9130-f018946e0083",
   "metadata": {},
   "outputs": [
    {
     "data": {
      "text/plain": [
       "1.7885814036548633"
      ]
     },
     "execution_count": 4,
     "metadata": {},
     "output_type": "execute_result"
    }
   ],
   "source": [
    "# Question 4: Find the standard deviation for the given data:\n",
    "# [178,177,176,177,178.2,178,175,179,180,175,178.9,176.2,177,172.5,178,176.5]\n",
    "# Answer:\n",
    "# Standard deviation measures the amount of variation or dispersion in a dataset.\n",
    "# It can be calculated using numpy's std function.\n",
    "std_deviation = np.std(heights, ddof=0)  # Population standard deviation\n",
    "\n",
    "std_deviation\n"
   ]
  },
  {
   "cell_type": "code",
   "execution_count": 7,
   "id": "901bff58-1d36-4da5-9763-86162a1f5e99",
   "metadata": {},
   "outputs": [],
   "source": [
    "# Question 5: How are measures of dispersion such as range, variance, and standard deviation used to describe the spread of a dataset? Provide an example.\n",
    "# Answer:\n",
    "# - Range: The difference between the maximum and minimum values. It provides a quick sense of the spread.\n",
    "# - Variance: The average of the squared differences from the mean. It gives a sense of how spread out the data points are.\n",
    "# - Standard Deviation: The square root of the variance. It is in the same units as the data and provides a measure of the average distance from the mean.\n",
    "# Example: For a dataset [10, 12, 14, 16, 18]:\n",
    "# Range = 18 - 10 = 8\n",
    "# Variance = ((10-14)^2 + (12-14)^2 + (14-14)^2 + (16-14)^2 + (18-14)^2) / 5\n",
    "# Standard Deviation = sqrt(Variance)"
   ]
  },
  {
   "cell_type": "code",
   "execution_count": 8,
   "id": "59744ccd-0bce-4cc6-8f61-c855268461de",
   "metadata": {},
   "outputs": [],
   "source": [
    "# Question 6: What is a Venn diagram?\n",
    "# Answer:\n",
    "# A Venn diagram is a graphical representation of sets and their relationships. It uses overlapping circles to show common elements between sets and to illustrate their union, intersection, and differences.\n",
    "\n"
   ]
  },
  {
   "cell_type": "code",
   "execution_count": 9,
   "id": "db1b16de-08ed-463d-921a-a1c9aeac4a4a",
   "metadata": {},
   "outputs": [
    {
     "data": {
      "text/plain": [
       "({2, 6}, {0, 2, 3, 4, 5, 6, 7, 8, 10})"
      ]
     },
     "execution_count": 9,
     "metadata": {},
     "output_type": "execute_result"
    }
   ],
   "source": [
    "# Question 7: For the two given sets A = (2,3,4,5,6,7) & B = (0,2,6,8,10). Find:\n",
    "# (i) A ∩ B\n",
    "# (ii) A ∪ B\n",
    "# Answer:\n",
    "# Importing the set operations library\n",
    "A = {2, 3, 4, 5, 6, 7}\n",
    "B = {0, 2, 6, 8, 10}\n",
    "\n",
    "# Intersection\n",
    "intersection_AB = A & B\n",
    "\n",
    "# Union\n",
    "union_AB = A | B\n",
    "\n",
    "intersection_AB, union_AB\n",
    "\n"
   ]
  },
  {
   "cell_type": "code",
   "execution_count": 10,
   "id": "028cac3f-3db6-4da9-9b7a-afdc67a3113e",
   "metadata": {},
   "outputs": [],
   "source": [
    "# Question 8: What do you understand about skewness in data?\n",
    "# Answer:\n",
    "# Skewness measures the asymmetry of the data distribution. A positive skew indicates that the data tail extends more to the right, while a negative skew indicates that the data tail extends more to the left. A skewness of zero indicates a symmetric distribution.\n",
    "\n"
   ]
  },
  {
   "cell_type": "code",
   "execution_count": 11,
   "id": "011dfd58-e785-4ea9-8d42-9740b07b38a2",
   "metadata": {},
   "outputs": [],
   "source": [
    "# Question 9: If data is right skewed, then what will be the position of median with respect to mean?\n",
    "# Answer:\n",
    "# In a right-skewed (positively skewed) distribution, the mean is typically greater than the median. The mean is pulled in the direction of the longer tail.\n",
    "\n"
   ]
  },
  {
   "cell_type": "code",
   "execution_count": 12,
   "id": "52e7b5f6-ea90-48da-8898-1b0fd24326b6",
   "metadata": {},
   "outputs": [],
   "source": [
    "# Question 10: Explain the difference between covariance and correlation. How are these measures used in statistical analysis?\n",
    "# Answer:\n",
    "# - Covariance measures the degree to which two variables change together. A positive covariance indicates that as one variable increases, the other also tends to increase, and vice versa. It is not standardized, so its value is not limited to a specific range.\n",
    "# - Correlation measures the strength and direction of a linear relationship between two variables. It is a standardized measure that ranges from -1 to 1. Correlation normalizes covariance to provide a dimensionless measure of relationship strength.\n",
    "\n"
   ]
  },
  {
   "cell_type": "code",
   "execution_count": 13,
   "id": "ec2886e8-8c00-4f8e-bb94-1815672d4873",
   "metadata": {},
   "outputs": [
    {
     "data": {
      "text/plain": [
       "6.0"
      ]
     },
     "execution_count": 13,
     "metadata": {},
     "output_type": "execute_result"
    }
   ],
   "source": [
    "# Question 11: What is the formula for calculating the sample mean? Provide an example calculation for a dataset.\n",
    "# Answer:\n",
    "# The formula for calculating the sample mean is:\n",
    "# Mean = (Sum of all sample values) / (Number of samples)\n",
    "# Example calculation:\n",
    "# Dataset: [4, 8, 6, 5, 7]\n",
    "# Mean = (4 + 8 + 6 + 5 + 7) / 5 = 30 / 5 = 6\n",
    "\n",
    "# Example calculation\n",
    "sample_data = [4, 8, 6, 5, 7]\n",
    "sample_mean = np.mean(sample_data)\n",
    "sample_mean\n",
    "\n"
   ]
  },
  {
   "cell_type": "code",
   "execution_count": null,
   "id": "2a23d144-8959-468b-b264-4d5f146af44e",
   "metadata": {},
   "outputs": [],
   "source": []
  }
 ],
 "metadata": {
  "kernelspec": {
   "display_name": "Python 3 (ipykernel)",
   "language": "python",
   "name": "python3"
  },
  "language_info": {
   "codemirror_mode": {
    "name": "ipython",
    "version": 3
   },
   "file_extension": ".py",
   "mimetype": "text/x-python",
   "name": "python",
   "nbconvert_exporter": "python",
   "pygments_lexer": "ipython3",
   "version": "3.11.5"
  }
 },
 "nbformat": 4,
 "nbformat_minor": 5
}
