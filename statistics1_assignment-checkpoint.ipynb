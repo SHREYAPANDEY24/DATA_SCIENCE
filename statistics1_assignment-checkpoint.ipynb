{
 "cells": [
  {
   "cell_type": "markdown",
   "id": "73d67ccc",
   "metadata": {},
   "source": [
    "# Q1. What is Statistics?"
   ]
  },
  {
   "cell_type": "markdown",
   "id": "95c03975",
   "metadata": {},
   "source": [
    "Statistics is a process of collecting, organising and analysing the data to bring out meaningful informaion out of it."
   ]
  },
  {
   "cell_type": "markdown",
   "id": "22fc6c60",
   "metadata": {},
   "source": [
    "# Q2. Define the different types of statistics and give an example of when each type might be used."
   ]
  },
  {
   "cell_type": "markdown",
   "id": "22d12315",
   "metadata": {},
   "source": [
    "There are two kinds of statistics-- DESCRIPTIVE STATISTICS and INFERENTIAL STATISTICS."
   ]
  },
  {
   "cell_type": "markdown",
   "id": "9c65cb55",
   "metadata": {},
   "source": [
    "# Q3. What are the different types of data and how do they differ from each other? Provide an example of each type of data.\n"
   ]
  },
  {
   "cell_type": "markdown",
   "id": "c1a2e95f",
   "metadata": {},
   "source": [
    "Data are classifeied into two types-- QUANTITATIVE DATA(numerical data) and QUALITATIVE DATA(categorical data)."
   ]
  },
  {
   "cell_type": "markdown",
   "id": "93fb6051",
   "metadata": {},
   "source": [
    "# Q4. Categorise the following datasets with respect to quantitative and qualitative data types:\n",
    "(i) Grading in exam: A+, A, B+, B, C+, C, D, E\n",
    "(ii) Colour of mangoes: yellow, green, orange, red\n",
    "(iii) Height data of a class: [178.9, 179, 179.5, 176, 177.2, 178.3, 175.8,...]\n",
    "(iv) Number of mangoes exported by a farm: [500, 600, 478, 672, ...]"
   ]
  },
  {
   "cell_type": "markdown",
   "id": "77e543a6",
   "metadata": {},
   "source": [
    "[i,ii] are qualitative and [iii,iv] are quantitative"
   ]
  },
  {
   "cell_type": "markdown",
   "id": "23be3c48",
   "metadata": {},
   "source": [
    "# Q5. Explain the concept of levels of measurement and give an example of a variable for each level."
   ]
  },
  {
   "cell_type": "markdown",
   "id": "2a1b01f6",
   "metadata": {},
   "source": [
    "levels of measurement are-- nominal, ordinal, interval and ratio."
   ]
  },
  {
   "cell_type": "markdown",
   "id": "1f2c713c",
   "metadata": {},
   "source": [
    "# Q6. Why is it important to understand the level of measurement when analyzing data? Provide an example to illustrate your answer."
   ]
  },
  {
   "cell_type": "markdown",
   "id": "4568954d",
   "metadata": {},
   "source": [
    "It is important to understand the level of measurement because various data are measured in their corresponding ways. for eg, we cannot give ranks to genders and hence it would require another suitatble method for analysing it"
   ]
  },
  {
   "cell_type": "markdown",
   "id": "c712041e",
   "metadata": {},
   "source": [
    "# Q7. How nominal data type is different from ordinal data type.\n"
   ]
  },
  {
   "cell_type": "markdown",
   "id": "98af3ddb",
   "metadata": {},
   "source": [
    "rank does not matter in nominal data type but it matters in ordinal datatype "
   ]
  },
  {
   "cell_type": "markdown",
   "id": "febe441d",
   "metadata": {},
   "source": [
    "# Q8. Which type of plot can be used to display data in terms of range?\n"
   ]
  },
  {
   "cell_type": "markdown",
   "id": "57b48ce2",
   "metadata": {},
   "source": [
    "histogram can be used to plot a graph that has range in it."
   ]
  },
  {
   "cell_type": "markdown",
   "id": "39d3bf03",
   "metadata": {},
   "source": [
    "# Q9. Describe the difference between descriptive and inferential statistics. Give an example of each type of statistics and explain how they are used.\n"
   ]
  },
  {
   "cell_type": "markdown",
   "id": "aa2c7ebe",
   "metadata": {},
   "source": [
    "in descriptive statistics we perform calculation on the data and analyse it whereas in inferential statistics we take the datameasured and calculated data to form conclusions."
   ]
  },
  {
   "cell_type": "markdown",
   "id": "9b1efa8e",
   "metadata": {},
   "source": [
    "# Q10. What are some common measures of central tendency and variability used in statistics? Explain how each measure can be used to describe a dataset."
   ]
  },
  {
   "cell_type": "markdown",
   "id": "fb66298c",
   "metadata": {},
   "source": [
    "mean, mode and median. mean is the average. mode is the most frequently occuring element and median is the middle element in the dataset."
   ]
  }
 ],
 "metadata": {
  "kernelspec": {
   "display_name": "Python 3 (ipykernel)",
   "language": "python",
   "name": "python3"
  },
  "language_info": {
   "codemirror_mode": {
    "name": "ipython",
    "version": 3
   },
   "file_extension": ".py",
   "mimetype": "text/x-python",
   "name": "python",
   "nbconvert_exporter": "python",
   "pygments_lexer": "ipython3",
   "version": "3.9.13"
  }
 },
 "nbformat": 4,
 "nbformat_minor": 5
}
