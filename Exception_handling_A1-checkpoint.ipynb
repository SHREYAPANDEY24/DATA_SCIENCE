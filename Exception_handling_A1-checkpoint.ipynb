{
 "cells": [
  {
   "cell_type": "code",
   "execution_count": 4,
   "id": "19ab352c-c039-47ff-b48c-0cf12b7c54fa",
   "metadata": {},
   "outputs": [
    {
     "name": "stdout",
     "output_type": "stream",
     "text": [
      "Cannot divide by zero!\n"
     ]
    }
   ],
   "source": [
    "# Q1. What is an Exception in Python? Write the difference between Exceptions and Syntax errors.\n",
    "\n",
    "# Answer:\n",
    "# An exception in Python is an event that occurs during the execution of a program \n",
    "# and disrupts the normal flow of instructions. Exceptions are usually raised when \n",
    "# Python encounters an error that it doesn't know how to handle, like dividing by zero \n",
    "# or trying to access a file that doesn't exist.\n",
    "\n",
    "# Difference between Exceptions and Syntax Errors:\n",
    "\n",
    "# Exceptions:\n",
    "# - These are errors that occur during the execution of the program. \n",
    "# - They can be handled using try, except blocks.\n",
    "\n",
    "# Example:\n",
    "try:\n",
    "    result = 10 / 0\n",
    "except ZeroDivisionError:\n",
    "    print(\"Cannot divide by zero!\")\n",
    "\n",
    "# Syntax Errors:\n",
    "# - These are errors in the syntax of the code, detected by the parser before the program is executed. \n",
    "# - They cannot be caught by try and except blocks.\n",
    "\n",
    "# Example:\n",
    "# if True\n",
    "#     print(\"This is a syntax error\")"
   ]
  },
  {
   "cell_type": "code",
   "execution_count": 5,
   "id": "b5252a3f-9ca5-46c0-b1b1-4ab27f0cd36d",
   "metadata": {},
   "outputs": [],
   "source": [
    "# Q2. What happens when an exception is not handled? Explain with an example.\n",
    "\n",
    "# Answer:\n",
    "# If an exception is not handled, Python will stop executing the program and will raise a traceback, \n",
    "# which is a detailed error message indicating the type of error and where it occurred in the code.\n",
    "\n",
    "# Example:\n",
    "# result = 10 / 0\n",
    "# print(\"This line will not execute\")\n",
    "# Output:\n",
    "# ZeroDivisionError: division by zero"
   ]
  },
  {
   "cell_type": "code",
   "execution_count": 6,
   "id": "b00704a0-bae9-4dbd-a1cd-e13aac1d9d32",
   "metadata": {},
   "outputs": [
    {
     "name": "stdin",
     "output_type": "stream",
     "text": [
      "Enter a number:   2\n"
     ]
    },
    {
     "name": "stdout",
     "output_type": "stream",
     "text": [
      "Result is 5.0\n",
      "Execution completed.\n"
     ]
    }
   ],
   "source": [
    "# Q3. Which Python statements are used to catch and handle exceptions? Explain with an example.\n",
    "\n",
    "# Answer:\n",
    "# Python provides the try, except, else, finally, and raise statements to handle exceptions.\n",
    "\n",
    "# Example:\n",
    "try:\n",
    "    number = int(input(\"Enter a number: \"))\n",
    "    result = 10 / number\n",
    "except ZeroDivisionError:\n",
    "    print(\"You cannot divide by zero.\")\n",
    "except ValueError:\n",
    "    print(\"Please enter a valid number.\")\n",
    "else:\n",
    "    print(f\"Result is {result}\")\n",
    "finally:\n",
    "    print(\"Execution completed.\")"
   ]
  },
  {
   "cell_type": "code",
   "execution_count": 7,
   "id": "576a6b61-629f-465e-afd6-24952dde06e3",
   "metadata": {},
   "outputs": [
    {
     "name": "stdout",
     "output_type": "stream",
     "text": [
      "Result is 5.0\n",
      "Execution completed.\n",
      "Cannot divide by zero!\n",
      "Execution completed.\n"
     ]
    },
    {
     "ename": "ZeroDivisionError",
     "evalue": "division by zero",
     "output_type": "error",
     "traceback": [
      "\u001b[1;31m---------------------------------------------------------------------------\u001b[0m",
      "\u001b[1;31mZeroDivisionError\u001b[0m                         Traceback (most recent call last)",
      "Cell \u001b[1;32mIn[7], line 22\u001b[0m\n\u001b[0;32m     19\u001b[0m         \u001b[38;5;28mprint\u001b[39m(\u001b[38;5;124m\"\u001b[39m\u001b[38;5;124mExecution completed.\u001b[39m\u001b[38;5;124m\"\u001b[39m)\n\u001b[0;32m     21\u001b[0m divide(\u001b[38;5;241m10\u001b[39m, \u001b[38;5;241m2\u001b[39m)\n\u001b[1;32m---> 22\u001b[0m divide(\u001b[38;5;241m10\u001b[39m, \u001b[38;5;241m0\u001b[39m)\n",
      "Cell \u001b[1;32mIn[7], line 12\u001b[0m, in \u001b[0;36mdivide\u001b[1;34m(a, b)\u001b[0m\n\u001b[0;32m     10\u001b[0m \u001b[38;5;28;01mdef\u001b[39;00m \u001b[38;5;21mdivide\u001b[39m(a, b):\n\u001b[0;32m     11\u001b[0m     \u001b[38;5;28;01mtry\u001b[39;00m:\n\u001b[1;32m---> 12\u001b[0m         result \u001b[38;5;241m=\u001b[39m a \u001b[38;5;241m/\u001b[39m b\n\u001b[0;32m     13\u001b[0m     \u001b[38;5;28;01mexcept\u001b[39;00m \u001b[38;5;167;01mZeroDivisionError\u001b[39;00m:\n\u001b[0;32m     14\u001b[0m         \u001b[38;5;28mprint\u001b[39m(\u001b[38;5;124m\"\u001b[39m\u001b[38;5;124mCannot divide by zero!\u001b[39m\u001b[38;5;124m\"\u001b[39m)\n",
      "\u001b[1;31mZeroDivisionError\u001b[0m: division by zero"
     ]
    }
   ],
   "source": [
    "# Q4. Explain with an example: try and else, finally, raise.\n",
    "\n",
    "# Answer:\n",
    "# try: Contains the code that might raise an exception.\n",
    "# else: Executes if the try block doesn't raise any exceptions.\n",
    "# finally: Always executes after the try block, regardless of whether an exception was raised or not.\n",
    "# raise: Manually raises an exception.\n",
    "\n",
    "# Example:\n",
    "def divide(a, b):\n",
    "    try:\n",
    "        result = a / b\n",
    "    except ZeroDivisionError:\n",
    "        print(\"Cannot divide by zero!\")\n",
    "        raise  # Re-raises the exception\n",
    "    else:\n",
    "        print(f\"Result is {result}\")\n",
    "    finally:\n",
    "        print(\"Execution completed.\")\n",
    "\n",
    "divide(10, 2)\n",
    "divide(10, 0)"
   ]
  },
  {
   "cell_type": "code",
   "execution_count": 8,
   "id": "1f7f898c-37cb-44a2-a369-e34839a8c06c",
   "metadata": {},
   "outputs": [
    {
     "name": "stdout",
     "output_type": "stream",
     "text": [
      "The number is not positive!\n"
     ]
    }
   ],
   "source": [
    "# Q5. What are Custom Exceptions in Python? Why do we need Custom Exceptions? Explain with an example.\n",
    "\n",
    "# Answer:\n",
    "# Custom Exceptions are user-defined exceptions that extend the base Exception class. \n",
    "# We use them to create specific error types that are more descriptive and relevant to our application.\n",
    "\n",
    "# Example:\n",
    "class CustomError(Exception):\n",
    "    def __init__(self, message):\n",
    "        self.message = message\n",
    "\n",
    "def check_positive(number):\n",
    "    if number <= 0:\n",
    "        raise CustomError(\"The number is not positive!\")\n",
    "    return f\"{number} is positive.\"\n",
    "\n",
    "try:\n",
    "    print(check_positive(-1))\n",
    "except CustomError as e:\n",
    "    print(e.message)"
   ]
  },
  {
   "cell_type": "code",
   "execution_count": 9,
   "id": "88ecf341-a706-4d8c-b885-82e71c4bc3d4",
   "metadata": {},
   "outputs": [
    {
     "name": "stdout",
     "output_type": "stream",
     "text": [
      "Error: Number must be positive.. You entered -5.\n"
     ]
    }
   ],
   "source": [
    "# Q6. Create a custom exception class. Use this class to handle an exception.\n",
    "\n",
    "# Answer:\n",
    "class NegativeNumberError(Exception):\n",
    "    \"\"\"Exception raised for errors in the input number being negative.\"\"\"\n",
    "    def __init__(self, number, message=\"Number must be positive.\"):\n",
    "        self.number = number\n",
    "        self.message = message\n",
    "        super().__init__(self.message)\n",
    "\n",
    "def check_positive(number):\n",
    "    if number < 0:\n",
    "        raise NegativeNumberError(number)\n",
    "    return f\"{number} is positive.\"\n",
    "\n",
    "try:\n",
    "    print(check_positive(-5))\n",
    "except NegativeNumberError as e:\n",
    "    print(f\"Error: {e.message}. You entered {e.number}.\")"
   ]
  },
  {
   "cell_type": "code",
   "execution_count": null,
   "id": "f97619e2-abdc-4584-b0be-742c43b20ae3",
   "metadata": {},
   "outputs": [],
   "source": []
  }
 ],
 "metadata": {
  "kernelspec": {
   "display_name": "Python 3 (ipykernel)",
   "language": "python",
   "name": "python3"
  },
  "language_info": {
   "codemirror_mode": {
    "name": "ipython",
    "version": 3
   },
   "file_extension": ".py",
   "mimetype": "text/x-python",
   "name": "python",
   "nbconvert_exporter": "python",
   "pygments_lexer": "ipython3",
   "version": "3.11.5"
  }
 },
 "nbformat": 4,
 "nbformat_minor": 5
}
