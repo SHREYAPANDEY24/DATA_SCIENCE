{
 "cells": [
  {
   "cell_type": "code",
   "execution_count": 1,
   "id": "448bd7fc-2359-4edc-8b73-bde653f6a719",
   "metadata": {},
   "outputs": [],
   "source": [
    "# Q1: Explain the following with an example:\n",
    "\n",
    "# a) Artificial Intelligence (AI):\n",
    "# Answer: AI refers to the simulation of human intelligence in machines that are programmed to think and learn. \n",
    "# AI systems can perform tasks that typically require human intelligence, such as recognizing speech, making decisions, and translating languages.\n",
    "# Example: A chatbot that can interact with customers and answer their queries is an example of AI.\n",
    "\n",
    "# b) Machine Learning (ML):\n",
    "# Answer: ML is a subset of AI that focuses on the development of algorithms and statistical models that enable computers to learn from \n",
    "# and make predictions or decisions based on data. Instead of being explicitly programmed for a task, the machine learns patterns from data.\n",
    "# Example: An email spam filter that learns to identify spam messages by analyzing the content of emails.\n",
    "\n",
    "# c) Deep Learning (DL):\n",
    "# Answer: DL is a subset of ML that uses neural networks with many layers (hence \"deep\") to model complex patterns in data. \n",
    "# It is particularly effective for tasks like image and speech recognition.\n",
    "# Example: A self-driving car that can recognize and classify objects like pedestrians, traffic signs, and other vehicles using deep learning models.\n"
   ]
  },
  {
   "cell_type": "code",
   "execution_count": 2,
   "id": "ed5559a7-b5b2-4d22-b1ff-018010586dc7",
   "metadata": {},
   "outputs": [],
   "source": [
    "# Q2: What is supervised learning? List some examples of supervised learning.\n",
    "\n",
    "# Answer: Supervised learning is a type of machine learning where the model is trained on labeled data, meaning the input data \n",
    "# is paired with the correct output. The goal is to learn a mapping from inputs to outputs so that the model can predict the output for new, unseen data.\n",
    "# Examples of Supervised Learning:\n",
    "# - Predicting house prices based on features like size, location, and number of bedrooms.\n",
    "# - Classifying emails as spam or not spam based on their content.\n",
    "# - Identifying handwritten digits from images.\n"
   ]
  },
  {
   "cell_type": "code",
   "execution_count": 3,
   "id": "4ff84bce-c794-4aee-8c24-91ccf9ee183e",
   "metadata": {},
   "outputs": [],
   "source": [
    "# Q3: What is unsupervised learning? List some examples of unsupervised learning.\n",
    "\n",
    "# Answer: Unsupervised learning is a type of machine learning where the model is trained on data without labeled outputs. \n",
    "# The model tries to find hidden patterns or intrinsic structures in the input data.\n",
    "# Examples of Unsupervised Learning:\n",
    "# - Clustering customers based on purchasing behavior.\n",
    "# - Identifying groups of similar news articles.\n",
    "# - Anomaly detection in network traffic.\n"
   ]
  },
  {
   "cell_type": "code",
   "execution_count": 4,
   "id": "66c295d5-7df0-400b-a578-a08e233d0afb",
   "metadata": {},
   "outputs": [],
   "source": [
    "# Q4: What is the difference between AI, ML, DL, and DS?\n",
    "\n",
    "# Answer:\n",
    "# AI (Artificial Intelligence) is a broad field focused on creating machines that can mimic human intelligence.\n",
    "# ML (Machine Learning) is a subset of AI that involves teaching machines to learn from data.\n",
    "# DL (Deep Learning) is a further subset of ML that uses deep neural networks with multiple layers to model complex patterns.\n",
    "# DS (Data Science) is an interdisciplinary field that uses scientific methods, processes, algorithms, and systems to extract knowledge from data. It often involves ML and AI.\n"
   ]
  },
  {
   "cell_type": "code",
   "execution_count": 5,
   "id": "14e89331-1edd-4b8a-ae6b-fdb617802ee7",
   "metadata": {},
   "outputs": [],
   "source": [
    "# Q5: What are the main differences between supervised, unsupervised, and semi-supervised learning?\n",
    "\n",
    "# Answer:\n",
    "# - Supervised Learning: The model is trained on labeled data. The goal is to predict outcomes for new data based on learned patterns.\n",
    "# - Unsupervised Learning: The model is trained on data without labels. The goal is to identify hidden patterns or groupings.\n",
    "# - Semi-Supervised Learning: The model is trained on a small amount of labeled data and a large amount of unlabeled data. It combines aspects of both supervised and unsupervised learning.\n"
   ]
  },
  {
   "cell_type": "code",
   "execution_count": 6,
   "id": "2bbe0f88-f158-48c7-b128-b769fdc1e822",
   "metadata": {},
   "outputs": [],
   "source": [
    "# Q6: What is train, test, and validation split? Explain the importance of each term.\n",
    "\n",
    "# Answer:\n",
    "# - Train Set: The data used to train the model.\n",
    "# - Validation Set: The data used to tune the model and select the best model during training.\n",
    "# - Test Set: The data used to evaluate the performance of the model after training. It provides an unbiased estimate of the model's performance on new data.\n",
    "\n"
   ]
  },
  {
   "cell_type": "code",
   "execution_count": 7,
   "id": "5c3fe695-eced-4b75-bf42-09afe8c0bc12",
   "metadata": {},
   "outputs": [],
   "source": [
    "# Q7: How can unsupervised learning be used in anomaly detection?\n",
    "\n",
    "# Answer: Unsupervised learning can be used in anomaly detection by identifying patterns in the data that deviate significantly from the norm. \n",
    "# For example, clustering algorithms can be used to identify data points that do not fit well into any cluster, marking them as anomalies.\n"
   ]
  },
  {
   "cell_type": "code",
   "execution_count": 8,
   "id": "cfc7821d-c638-4f58-887e-d5f8b1653ff4",
   "metadata": {},
   "outputs": [],
   "source": [
    "# Q8: List down some commonly used supervised learning algorithms and unsupervised learning algorithms.\n",
    "\n",
    "# Answer:\n",
    "# Supervised Learning Algorithms:\n",
    "# - Linear Regression\n",
    "# - Logistic Regression\n",
    "# - Decision Trees\n",
    "# - Random Forests\n",
    "# - Support Vector Machines (SVM)\n",
    "\n",
    "# Unsupervised Learning Algorithms:\n",
    "# - K-Means Clustering\n",
    "# - Hierarchical Clustering\n",
    "# - Principal Component Analysis (PCA)\n",
    "# - t-Distributed Stochastic Neighbor Embedding (t-SNE)\n",
    "# - Apriori Algorithm (for association rule learning)"
   ]
  },
  {
   "cell_type": "code",
   "execution_count": null,
   "id": "980f4118-3bee-4a11-9ab3-70fe40b26eda",
   "metadata": {},
   "outputs": [],
   "source": []
  }
 ],
 "metadata": {
  "kernelspec": {
   "display_name": "Python 3 (ipykernel)",
   "language": "python",
   "name": "python3"
  },
  "language_info": {
   "codemirror_mode": {
    "name": "ipython",
    "version": 3
   },
   "file_extension": ".py",
   "mimetype": "text/x-python",
   "name": "python",
   "nbconvert_exporter": "python",
   "pygments_lexer": "ipython3",
   "version": "3.11.5"
  }
 },
 "nbformat": 4,
 "nbformat_minor": 5
}
